{
 "cells": [
  {
   "cell_type": "code",
   "execution_count": 1,
   "id": "5597ba10",
   "metadata": {},
   "outputs": [],
   "source": [
    "import tensorflow as tf\n",
    "import keras\n",
    "from keras.datasets import mnist\n",
    "from keras.models import Sequential\n",
    "from keras.layers import Dense, Dropout, Flatten, Input\n",
    "\n",
    "from keras.layers import Conv2D, MaxPooling2D\n",
    "from keras import backend as K\n",
    "\n",
    "import numpy as np\n",
    "import matplotlib.pyplot as plt\n",
    "\n",
    "%matplotlib inline"
   ]
  },
  {
   "cell_type": "code",
   "execution_count": 2,
   "id": "9871ef81",
   "metadata": {},
   "outputs": [
    {
     "data": {
      "text/plain": [
       "''"
      ]
     },
     "execution_count": 2,
     "metadata": {},
     "output_type": "execute_result"
    }
   ],
   "source": [
    "# Determine if GPU is available\n",
    "tf.test.gpu_device_name()"
   ]
  },
  {
   "cell_type": "code",
   "execution_count": 3,
   "id": "a95494dd",
   "metadata": {},
   "outputs": [],
   "source": [
    "batch_size = 128\n",
    "n_classes = 10\n",
    "n_epoches = 15\n",
    "\n",
    "im_row, im_col = 28, 28"
   ]
  },
  {
   "cell_type": "code",
   "execution_count": 4,
   "id": "2d6c711e",
   "metadata": {},
   "outputs": [],
   "source": [
    "# Load train and test data\n",
    "(x_train, y_train), (x_test, y_test) = mnist.load_data()"
   ]
  },
  {
   "cell_type": "code",
   "execution_count": 5,
   "id": "b7e3a12d",
   "metadata": {},
   "outputs": [
    {
     "name": "stdout",
     "output_type": "stream",
     "text": [
      "x_train shape: (60000, 28, 28)\n",
      "x_test shape: (10000, 28, 28)\n",
      "\n",
      "y_train shape: (60000,)\n",
      "y_test shape: (10000,)\n"
     ]
    }
   ],
   "source": [
    "print(f'x_train shape: {x_train.shape}')\n",
    "print(f'x_test shape: {x_test.shape}\\n')\n",
    "print(f'y_train shape: {y_train.shape}')\n",
    "print(f'y_test shape: {y_test.shape}')\n"
   ]
  },
  {
   "cell_type": "code",
   "execution_count": 6,
   "id": "99f38241",
   "metadata": {},
   "outputs": [
    {
     "data": {
      "text/plain": [
       "4"
      ]
     },
     "execution_count": 6,
     "metadata": {},
     "output_type": "execute_result"
    }
   ],
   "source": [
    "# Sample data\n",
    "# x_train[2]\n",
    "y_train[2]\n"
   ]
  },
  {
   "cell_type": "code",
   "execution_count": 7,
   "id": "b1b1f4e3",
   "metadata": {},
   "outputs": [
    {
     "data": {
      "text/plain": [
       "<matplotlib.image.AxesImage at 0x29d8b7ec790>"
      ]
     },
     "execution_count": 7,
     "metadata": {},
     "output_type": "execute_result"
    },
    {
     "data": {
      "image/png": "[encoded data removed]",
      "text/plain": [
       "<Figure size 640x480 with 1 Axes>"
      ]
     },
     "metadata": {},
     "output_type": "display_data"
    }
   ],
   "source": [
    "plt.imshow(x_test[6], cmap='gray')"
   ]
  },
  {
   "cell_type": "code",
   "execution_count": 8,
   "id": "073c212d",
   "metadata": {},
   "outputs": [
    {
     "name": "stdout",
     "output_type": "stream",
     "text": [
      "index: 15, i: 0\n",
      "index: 29, i: 1\n",
      "index: 38, i: 2\n",
      "index: 42, i: 3\n",
      "index: 52, i: 4\n",
      "index: 71, i: 5\n",
      "index: 79, i: 6\n",
      "index: 84, i: 7\n",
      "index: 91, i: 8\n",
      "index: 96, i: 9\n"
     ]
    },
    {
     "data": {
      "image/png": "[encoded data removed]",
      "text/plain": [
       "<Figure size 1500x1000 with 10 Axes>"
      ]
     },
     "metadata": {},
     "output_type": "display_data"
    }
   ],
   "source": [
    "fig =  plt.figure(figsize=(15,10))\n",
    "\n",
    "i = 0\n",
    "for f in range(0, y_train.shape[0]):\n",
    "#     print(f'index: {f}, label: {y_train[f]}')\n",
    "    if(y_train[f] == 7 and i < 10):\n",
    "        print(f'index: {f}, i: {i}')\n",
    "        plt.subplot(2, 5, i + 1)\n",
    "        plt.imshow(x_train[f], cmap='gray')\n",
    "        plt.xticks([])\n",
    "        plt.yticks([])\n",
    "        i += 1"
   ]
  },
  {
   "cell_type": "code",
   "execution_count": 9,
   "id": "67f4ab17",
   "metadata": {},
   "outputs": [
    {
     "data": {
      "text/plain": [
       "'channels_last'"
      ]
     },
     "execution_count": 9,
     "metadata": {},
     "output_type": "execute_result"
    }
   ],
   "source": [
    "# show image format location\n",
    "K.image_data_format()"
   ]
  },
  {
   "cell_type": "code",
   "execution_count": 10,
   "id": "c7b0c89f",
   "metadata": {},
   "outputs": [],
   "source": [
    "# reshape the training and testing data sets \n",
    "if K.image_data_format == 'channel_last':\n",
    "    x_train = x_train.reshape(x_train.shape[0], 1, im_row, im_col)\n",
    "    x_test = x_test.reshape(x_test.shape[0], 1, im_row, im_col)\n",
    "    \n",
    "else:\n",
    "    x_train = x_train.reshape(x_train.shape[0], im_row, im_col, 1)\n",
    "    x_test = x_test.reshape(x_test.shape[0], im_row, im_col, 1)\n",
    "        \n",
    "\n"
   ]
  },
  {
   "cell_type": "code",
   "execution_count": 11,
   "id": "907e78dd",
   "metadata": {},
   "outputs": [
    {
     "data": {
      "text/plain": [
       "array([0], dtype=uint8)"
      ]
     },
     "execution_count": 11,
     "metadata": {},
     "output_type": "execute_result"
    }
   ],
   "source": [
    "x_train[0][0][0]"
   ]
  },
  {
   "cell_type": "code",
   "execution_count": 12,
   "id": "15c6c458",
   "metadata": {},
   "outputs": [],
   "source": [
    "# Normalization:\n",
    "x_train = x_train.astype('float32')\n",
    "x_test = x_test.astype('float32')\n",
    "\n",
    "x_train /= 255\n",
    "x_test /= 255\n",
    "\n",
    "y_train = keras.utils.to_categorical(y_train, n_classes)\n",
    "y_test = keras.utils.to_categorical(y_test, n_classes)\n",
    "\n",
    "input_shape = x_train.shape[0]"
   ]
  },
  {
   "cell_type": "code",
   "execution_count": 13,
   "id": "8b6038cf",
   "metadata": {},
   "outputs": [
    {
     "data": {
      "text/plain": [
       "array([0.], dtype=float32)"
      ]
     },
     "execution_count": 13,
     "metadata": {},
     "output_type": "execute_result"
    }
   ],
   "source": [
    "x_train[0][0][0]"
   ]
  },
  {
   "cell_type": "code",
   "execution_count": 14,
   "id": "bf085a94",
   "metadata": {},
   "outputs": [
    {
     "name": "stdout",
     "output_type": "stream",
     "text": [
      "x_train shape: (60000, 28, 28, 1)\n",
      "x_test shape: (10000, 28, 28, 1)\n",
      "input shape: (28, 28, 1)\n",
      "\n",
      "Training sample count: 60000\n",
      "Test sample count: 10000\n",
      "\n"
     ]
    }
   ],
   "source": [
    "# Data stats:\n",
    "print(f'x_train shape: {x_train.shape}')\n",
    "print(f'x_test shape: {x_test.shape}')\n",
    "print(f'input shape: {x_train[0].shape}\\n')\n",
    "\n",
    "print(f'Training sample count: {input_shape}')\n",
    "print(f'Test sample count: {x_test.shape[0]}\\n')"
   ]
  },
  {
   "cell_type": "code",
   "execution_count": 15,
   "id": "06a9748a",
   "metadata": {},
   "outputs": [
    {
     "data": {
      "text/plain": [
       "numpy.ndarray"
      ]
     },
     "execution_count": 15,
     "metadata": {},
     "output_type": "execute_result"
    }
   ],
   "source": [
    "type(x_train[0])"
   ]
  },
  {
   "cell_type": "code",
   "execution_count": 16,
   "id": "b420c611",
   "metadata": {},
   "outputs": [],
   "source": [
    "# Create model\n",
    "model = Sequential()\n",
    "model.add(Conv2D(32, kernel_size=(3, 3),activation='relu' \n",
    "                 ,input_shape=(28, 28, 1)))\n",
    "model.add(Conv2D(64, kernel_size=(3, 3), activation='relu'))\n",
    "model.add(MaxPooling2D(pool_size=(2, 2)))\n",
    "model.add(Dropout(rate=0.25))\n",
    "model.add(Flatten())\n",
    "model.add(Dense(units=128, activation='relu'))\n",
    "model.add(Dropout(rate=0.5))\n",
    "model.add(Dense(units=n_classes, activation='softmax'))\n"
   ]
  },
  {
   "cell_type": "code",
   "execution_count": 17,
   "id": "4588756f",
   "metadata": {},
   "outputs": [],
   "source": [
    "# Compile Model:\n",
    "model.compile(loss=keras.losses.categorical_crossentropy,\n",
    "              optimizer = keras.optimizers.Adam(),\n",
    "              metrics=['accuracy'])"
   ]
  },
  {
   "cell_type": "code",
   "execution_count": 18,
   "id": "d3c07855",
   "metadata": {},
   "outputs": [
    {
     "name": "stdout",
     "output_type": "stream",
     "text": [
      "Model: \"sequential\"\n",
      "_________________________________________________________________\n",
      " Layer (type)                Output Shape              Param #   \n",
      "=================================================================\n",
      " conv2d (Conv2D)             (None, 26, 26, 32)        320       \n",
      "                                                                 \n",
      " conv2d_1 (Conv2D)           (None, 24, 24, 64)        18496     \n",
      "                                                                 \n",
      " max_pooling2d (MaxPooling2  (None, 12, 12, 64)        0         \n",
      " D)                                                              \n",
      "                                                                 \n",
      " dropout (Dropout)           (None, 12, 12, 64)        0         \n",
      "                                                                 \n",
      " flatten (Flatten)           (None, 9216)              0         \n",
      "                                                                 \n",
      " dense (Dense)               (None, 128)               1179776   \n",
      "                                                                 \n",
      " dropout_1 (Dropout)         (None, 128)               0         \n",
      "                                                                 \n",
      " dense_1 (Dense)             (None, 10)                1290      \n",
      "                                                                 \n",
      "=================================================================\n",
      "Total params: 1199882 (4.58 MB)\n",
      "Trainable params: 1199882 (4.58 MB)\n",
      "Non-trainable params: 0 (0.00 Byte)\n",
      "_________________________________________________________________\n"
     ]
    }
   ],
   "source": [
    "model.summary()"
   ]
  },
  {
   "cell_type": "code",
   "execution_count": 30,
   "id": "68d1b6e9",
   "metadata": {},
   "outputs": [],
   "source": [
    "# To save the model for furthure use\n",
    "checkpoint = keras.callbacks.ModelCheckpoint(filepath='keras_MNIST_CNN.h5',\n",
    "                                            verbose=1,\n",
    "                                            save_best_only=True)"
   ]
  },
  {
   "cell_type": "code",
   "execution_count": 31,
   "id": "f21ac23b",
   "metadata": {},
   "outputs": [
    {
     "name": "stdout",
     "output_type": "stream",
     "text": [
      "Epoch 1/15\n",
      "468/469 [============================>.] - ETA: 0s - loss: 0.0854 - accuracy: 0.9748\n",
      "Epoch 1: val_loss improved from inf to 0.04136, saving model to keras_MNIST_CNN.h5\n",
      "469/469 [==============================] - 22s 46ms/step - loss: 0.0853 - accuracy: 0.9748 - val_loss: 0.0414 - val_accuracy: 0.9857\n",
      "Epoch 2/15\n",
      "  1/469 [..............................] - ETA: 19s - loss: 0.0792 - accuracy: 0.9766"
     ]
    },
    {
     "name": "stderr",
     "output_type": "stream",
     "text": [
      "C:\\Users\\104974068\\AppData\\Roaming\\Python\\Python310\\site-packages\\keras\\src\\engine\\training.py:3079: UserWarning: You are saving your model as an HDF5 file via `model.save()`. This file format is considered legacy. We recommend using instead the native Keras format, e.g. `model.save('my_model.keras')`.\n",
      "  saving_api.save_model(\n"
     ]
    },
    {
     "name": "stdout",
     "output_type": "stream",
     "text": [
      "468/469 [============================>.] - ETA: 0s - loss: 0.0646 - accuracy: 0.9805\n",
      "Epoch 2: val_loss improved from 0.04136 to 0.03365, saving model to keras_MNIST_CNN.h5\n",
      "469/469 [==============================] - 20s 42ms/step - loss: 0.0648 - accuracy: 0.9805 - val_loss: 0.0337 - val_accuracy: 0.9884\n",
      "Epoch 3/15\n",
      "468/469 [============================>.] - ETA: 0s - loss: 0.0519 - accuracy: 0.9840\n",
      "Epoch 3: val_loss did not improve from 0.03365\n",
      "469/469 [==============================] - 20s 42ms/step - loss: 0.0519 - accuracy: 0.9840 - val_loss: 0.0339 - val_accuracy: 0.9882\n",
      "Epoch 4/15\n",
      "469/469 [==============================] - ETA: 0s - loss: 0.0436 - accuracy: 0.9866\n",
      "Epoch 4: val_loss improved from 0.03365 to 0.03310, saving model to keras_MNIST_CNN.h5\n",
      "469/469 [==============================] - 21s 45ms/step - loss: 0.0436 - accuracy: 0.9866 - val_loss: 0.0331 - val_accuracy: 0.9896\n",
      "Epoch 5/15\n",
      "469/469 [==============================] - ETA: 0s - loss: 0.0389 - accuracy: 0.9880\n",
      "Epoch 5: val_loss improved from 0.03310 to 0.02908, saving model to keras_MNIST_CNN.h5\n",
      "469/469 [==============================] - 21s 45ms/step - loss: 0.0389 - accuracy: 0.9880 - val_loss: 0.0291 - val_accuracy: 0.9910\n",
      "Epoch 6/15\n",
      "468/469 [============================>.] - ETA: 0s - loss: 0.0361 - accuracy: 0.9882\n",
      "Epoch 6: val_loss improved from 0.02908 to 0.02660, saving model to keras_MNIST_CNN.h5\n",
      "469/469 [==============================] - 22s 47ms/step - loss: 0.0363 - accuracy: 0.9882 - val_loss: 0.0266 - val_accuracy: 0.9912\n",
      "Epoch 7/15\n",
      "468/469 [============================>.] - ETA: 0s - loss: 0.0318 - accuracy: 0.9898\n",
      "Epoch 7: val_loss did not improve from 0.02660\n",
      "469/469 [==============================] - 22s 47ms/step - loss: 0.0317 - accuracy: 0.9898 - val_loss: 0.0288 - val_accuracy: 0.9901\n",
      "Epoch 8/15\n",
      "468/469 [============================>.] - ETA: 0s - loss: 0.0275 - accuracy: 0.9911\n",
      "Epoch 8: val_loss did not improve from 0.02660\n",
      "469/469 [==============================] - 22s 46ms/step - loss: 0.0274 - accuracy: 0.9911 - val_loss: 0.0297 - val_accuracy: 0.9902\n",
      "Epoch 9/15\n",
      "468/469 [============================>.] - ETA: 0s - loss: 0.0263 - accuracy: 0.9914\n",
      "Epoch 9: val_loss did not improve from 0.02660\n",
      "469/469 [==============================] - 21s 45ms/step - loss: 0.0263 - accuracy: 0.9915 - val_loss: 0.0305 - val_accuracy: 0.9913\n",
      "Epoch 10/15\n",
      "468/469 [============================>.] - ETA: 0s - loss: 0.0239 - accuracy: 0.9923\n",
      "Epoch 10: val_loss did not improve from 0.02660\n",
      "469/469 [==============================] - 21s 44ms/step - loss: 0.0239 - accuracy: 0.9923 - val_loss: 0.0275 - val_accuracy: 0.9918\n",
      "Epoch 11/15\n",
      "469/469 [==============================] - ETA: 0s - loss: 0.0204 - accuracy: 0.9932\n",
      "Epoch 11: val_loss did not improve from 0.02660\n",
      "469/469 [==============================] - 21s 45ms/step - loss: 0.0204 - accuracy: 0.9932 - val_loss: 0.0300 - val_accuracy: 0.9915\n",
      "Epoch 12/15\n",
      "469/469 [==============================] - ETA: 0s - loss: 0.0206 - accuracy: 0.9930\n",
      "Epoch 12: val_loss did not improve from 0.02660\n",
      "469/469 [==============================] - 21s 45ms/step - loss: 0.0206 - accuracy: 0.9930 - val_loss: 0.0281 - val_accuracy: 0.9929\n",
      "Epoch 13/15\n",
      "468/469 [============================>.] - ETA: 0s - loss: 0.0191 - accuracy: 0.9936\n",
      "Epoch 13: val_loss did not improve from 0.02660\n",
      "469/469 [==============================] - 21s 44ms/step - loss: 0.0191 - accuracy: 0.9935 - val_loss: 0.0289 - val_accuracy: 0.9917\n",
      "Epoch 14/15\n",
      "468/469 [============================>.] - ETA: 0s - loss: 0.0186 - accuracy: 0.9941\n",
      "Epoch 14: val_loss did not improve from 0.02660\n",
      "469/469 [==============================] - 21s 44ms/step - loss: 0.0186 - accuracy: 0.9941 - val_loss: 0.0319 - val_accuracy: 0.9915\n",
      "Epoch 15/15\n",
      "469/469 [==============================] - ETA: 0s - loss: 0.0174 - accuracy: 0.9940\n",
      "Epoch 15: val_loss did not improve from 0.02660\n",
      "469/469 [==============================] - 21s 45ms/step - loss: 0.0174 - accuracy: 0.9940 - val_loss: 0.0331 - val_accuracy: 0.9920\n",
      "CPU times: total: 1h 15min 44s\n",
      "Wall time: 5min 15s\n"
     ]
    },
    {
     "data": {
      "text/plain": [
       "<keras.src.callbacks.History at 0x29d8b796c20>"
      ]
     },
     "execution_count": 31,
     "metadata": {},
     "output_type": "execute_result"
    }
   ],
   "source": [
    "%%time\n",
    "# fit the model\n",
    "model.fit(x=x_train, y=y_train, batch_size=batch_size,\n",
    "         epochs=n_epoches,\n",
    "         verbose=1,\n",
    "         validation_data=(x_test, y_test)\n",
    "         ,callbacks=[checkpoint])"
   ]
  },
  {
   "cell_type": "code",
   "execution_count": 32,
   "id": "7a21878b",
   "metadata": {},
   "outputs": [],
   "source": [
    "model.save('keras_MNIST_CNN.keras')"
   ]
  },
  {
   "cell_type": "code",
   "execution_count": 33,
   "id": "4603107a",
   "metadata": {},
   "outputs": [
    {
     "name": "stdout",
     "output_type": "stream",
     "text": [
      "313/313 - 2s - loss: 0.0331 - accuracy: 0.9920 - 2s/epoch - 8ms/step\n"
     ]
    }
   ],
   "source": [
    "score = model.evaluate(x=x_test, y=y_test, verbose=2)"
   ]
  },
  {
   "cell_type": "code",
   "execution_count": 34,
   "id": "b821f7ac",
   "metadata": {},
   "outputs": [
    {
     "name": "stdout",
     "output_type": "stream",
     "text": [
      "Test Loss: 0.033084437251091\n",
      "Test Accuracy: 0.9919999837875366\n"
     ]
    }
   ],
   "source": [
    "print('Test Loss:', score[0])\n",
    "print('Test Accuracy:', score[1])\n"
   ]
  },
  {
   "cell_type": "code",
   "execution_count": 35,
   "id": "3e6cd6b3",
   "metadata": {},
   "outputs": [],
   "source": [
    "# Model AUC\n",
    "from sklearn.metrics import roc_auc_score"
   ]
  },
  {
   "cell_type": "code",
   "execution_count": 36,
   "id": "1c35ef0f",
   "metadata": {},
   "outputs": [
    {
     "name": "stdout",
     "output_type": "stream",
     "text": [
      "313/313 [==============================] - 2s 8ms/step\n",
      "CPU times: total: 32.4 s\n",
      "Wall time: 3.32 s\n"
     ]
    }
   ],
   "source": [
    "%%time\n",
    "preds = model.predict(x_test)"
   ]
  },
  {
   "cell_type": "code",
   "execution_count": 37,
   "id": "929e164e",
   "metadata": {},
   "outputs": [
    {
     "name": "stdout",
     "output_type": "stream",
     "text": [
      "predictions for x_test[0]: [5.6631566e-14 1.2484882e-09 7.8666557e-10 6.0319358e-12 9.9981004e-01\n",
      " 3.0153458e-08 2.0257511e-12 4.0765034e-08 8.9311303e-05 1.0052990e-04], \n",
      "\n",
      " Actual label [0. 0. 0. 0. 1. 0. 0. 0. 0. 0.]\n",
      "\n",
      "\n",
      "predictions for x_test[0] after rounding: [0. 0. 0. 0. 1. 0. 0. 0. 0. 0.]\n"
     ]
    }
   ],
   "source": [
    "# check a sample prediction\n",
    "print(f'predictions for x_test[0]: {preds[6]}, \\n\\n Actual label {y_test[6]}\\n\\n')\n",
    "print(f'predictions for x_test[0] after rounding: {np.round(preds[6])}')"
   ]
  },
  {
   "cell_type": "code",
   "execution_count": 38,
   "id": "7c1e94b3",
   "metadata": {},
   "outputs": [
    {
     "data": {
      "text/plain": [
       "array([0., 0., 0., 0., 1., 0., 0., 0., 0., 0.], dtype=float32)"
      ]
     },
     "execution_count": 38,
     "metadata": {},
     "output_type": "execute_result"
    }
   ],
   "source": [
    "y_test[6]"
   ]
  },
  {
   "cell_type": "code",
   "execution_count": 39,
   "id": "d00d624d",
   "metadata": {},
   "outputs": [
    {
     "name": "stdout",
     "output_type": "stream",
     "text": [
      "AUC: 99.57%\n"
     ]
    }
   ],
   "source": [
    "auc = roc_auc_score(np.round(preds), y_test)\n",
    "print(f'AUC: {auc:.2%}')"
   ]
  },
  {
   "cell_type": "markdown",
   "id": "b2ea553e",
   "metadata": {},
   "source": [
    "## Preview Convolution layers step on image"
   ]
  },
  {
   "cell_type": "code",
   "execution_count": 40,
   "id": "b9bb06b7",
   "metadata": {},
   "outputs": [
    {
     "name": "stdout",
     "output_type": "stream",
     "text": [
      "1875/1875 [==============================] - 10s 5ms/step\n"
     ]
    }
   ],
   "source": [
    "from keras import models\n",
    "layers = [layer.output for layer in model.layers[:4]]\n",
    "model_layers = models.Model(inputs=model.input, outputs=layers)\n",
    "activations = model_layers.predict(x_train)"
   ]
  },
  {
   "cell_type": "code",
   "execution_count": 41,
   "id": "6c45c4f2",
   "metadata": {
    "scrolled": false
   },
   "outputs": [
    {
     "data": {
      "image/png": "[encoded data removed]",
      "text/plain": [
       "<Figure size 1500x1000 with 4 Axes>"
      ]
     },
     "metadata": {},
     "output_type": "display_data"
    }
   ],
   "source": [
    "conv_layers = 4\n",
    "desired_num_idx = 25\n",
    "fig = plt.figure(figsize=(15,10))\n",
    "\n",
    "plt.subplot(1, conv_layers, 1)\n",
    "plt.title(\"Original Image\")\n",
    "plt.imshow(x_train[desired_num_idx].reshape(28, 28), cmap='gray')\n",
    "plt.x_ticks=([])\n",
    "plt.y_ticks=([])\n",
    "\n",
    "for f in range(1, conv_layers):\n",
    "    plt.subplot(1, conv_layers, f + 1)\n",
    "    plt.title(\"Convolutional layer %d\" %f)\n",
    "    layer_activation = activations[f]\n",
    "    plt.imshow(layer_activation[desired_num_idx, :, :, 0], cmap='gray')\n",
    "    plt.x_ticks=([])\n",
    "    plt.y_ticks=([])\n",
    "    \n",
    "plt.show()"
   ]
  },
  {
   "cell_type": "code",
   "execution_count": null,
   "id": "a2602288",
   "metadata": {},
   "outputs": [],
   "source": []
  }
 ],
 "metadata": {
  "kernelspec": {
   "display_name": "Python 3 (ipykernel)",
   "language": "python",
   "name": "python3"
  },
  "language_info": {
   "codemirror_mode": {
    "name": "ipython",
    "version": 3
   },
   "file_extension": ".py",
   "mimetype": "text/x-python",
   "name": "python",
   "nbconvert_exporter": "python",
   "pygments_lexer": "ipython3",
   "version": "3.10.9"
  }
 },
 "nbformat": 4,
 "nbformat_minor": 5
}
