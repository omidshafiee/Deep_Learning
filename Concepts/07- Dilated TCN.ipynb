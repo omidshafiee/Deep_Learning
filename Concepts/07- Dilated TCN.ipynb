{
 "cells": [
  {
   "cell_type": "code",
   "execution_count": 1,
   "id": "75f43eea",
   "metadata": {},
   "outputs": [],
   "source": [
    "import numpy as np\n",
    "import pandas as pd\n",
    "\n",
    "import tensorflow\n",
    "import keras\n",
    "from keras import optimizers\n",
    "from keras import losses, regularizers\n",
    "from keras.losses import mse, binary_crossentropy\n",
    "from keras import backend as K\n",
    "from keras.models import Sequential, Model\n",
    "from keras.layers import Lambda, Dense, Input, Dropout, Embedding\n",
    "from keras.layers import Conv1D, Flatten, Activation, SpatialDropout1D\n",
    "\n",
    "from keras.optimizers import RMSprop, Adam, Nadam\n",
    "from keras.preprocessing import sequence\n",
    "from keras.callbacks import TensorBoard, ModelCheckpoint\n",
    "\n",
    "\n",
    "import sklearn\n",
    "from sklearn.preprocessing import StandardScaler, MinMaxScaler\n",
    "from sklearn.model_selection import train_test_split\n",
    "from sklearn.metrics import confusion_matrix, roc_auc_score, classification_report\n",
    "\n",
    "import matplotlib\n",
    "import matplotlib.pyplot as plt\n",
    "import matplotlib.gridspec as gridspec\n",
    "%matplotlib inline\n",
    "\n",
    "import seaborn as sns\n",
    "import sys\n",
    "import os\n",
    "import glob"
   ]
  },
  {
   "cell_type": "code",
   "execution_count": 2,
   "id": "85ef5910",
   "metadata": {},
   "outputs": [],
   "source": [
    "class Visualization:\n",
    "    labels = [\"Normal\", \"Anomaly\"]\n",
    "    def draw_confusion_matrix(self, y, y_pred):\n",
    "        matrix = confusion_matrix(y_true=y, y_pred=y_pred)\n",
    "        \n",
    "        plt.figure(figsize=(7,5))\n",
    "        colors =['orange', 'green']\n",
    "        sns.heatmap(matrix, xticklabels=self.labels, yticklabels=self.labels,\n",
    "                   cmap=colors, annot=True, fmt='d')\n",
    "        plt.title('Confusion Matrix')\n",
    "        plt.ylabel('Actual')\n",
    "        plt.xlabel('Predicted')\n",
    "        plt.show()\n",
    "        \n",
    "        \n",
    "    def draw_anomaly(self, y, error, threshold):\n",
    "        groupsDF = pd.DataFrame({'error':error, 'true':y}).groupby('true')\n",
    "        \n",
    "        figure, axes = plt.subplots(figsize=(12, 8))\n",
    "        \n",
    "        for name, group in groupsDF:\n",
    "            axes.plot(group.index, group.error, linestyle='',\n",
    "                      marker='x' if name == 1 else 'o',\n",
    "                      color='r' if name == 1 else 'g',\n",
    "                      label='Anomaly' if name == 1 else 'Normal'\n",
    "                      )\n",
    "        axes.hlines(threshold, xmin=axes.get_xlim()[0], xmax=axes.get_xlim()[1],\n",
    "                   colors='b', zorder=100, label='Threshold')\n",
    "        axes.legend()\n",
    "\n",
    "        plt.title(\"Anomalies\")\n",
    "        plt.xlabel(\"Data\")\n",
    "        plt.ylabel(\"Error\")\n",
    "        plt.show()\n",
    "            \n",
    "    def draw_error(self, error, threshold):\n",
    "        figure, axes = plt.subplots(figsize=(12, 8))\n",
    "        plt.plot(error, marker='o', ms=3.5, linestyle='', label='Point')\n",
    "        plt.hlines(threshold, xmin=0, xmax=len(error)-1,\n",
    "                   colors='b', zorder=100, label='Threshold')\n",
    "        plt.legend()\n",
    "        plt.title(\"Reconstruction error\")\n",
    "        plt.xlabel(\"Data\")\n",
    "        plt.ylabel(\"Error\")\n",
    "        plt.show()\n",
    "        "
   ]
  },
  {
   "cell_type": "code",
   "execution_count": 3,
   "id": "7394dacf",
   "metadata": {},
   "outputs": [
    {
     "name": "stdout",
     "output_type": "stream",
     "text": [
      "D:\\datasets\n"
     ]
    }
   ],
   "source": [
    "data_folder = os.path.join('D:', os.sep, 'datasets')\n",
    "print(data_folder)\n",
    "\n",
    "# zip_file = os.path.join('D:', os.sep, 'prg','datasets', 'creditcard.zip')\n",
    "# print(zip_file)\n",
    "\n"
   ]
  },
  {
   "cell_type": "code",
   "execution_count": 4,
   "id": "e3de4304",
   "metadata": {},
   "outputs": [],
   "source": [
    "# from zipfile import ZipFile\n",
    "# with ZipFile(zip_file, 'r') as f:\n",
    "#     f.extractall(path=data_folder)\n",
    "\n",
    "# f.close()"
   ]
  },
  {
   "cell_type": "code",
   "execution_count": 5,
   "id": "9730b8af",
   "metadata": {},
   "outputs": [],
   "source": [
    "# !unzip creditcard.zip\n",
    "# print(f.filename)"
   ]
  },
  {
   "cell_type": "code",
   "execution_count": 6,
   "id": "55b30a5b",
   "metadata": {},
   "outputs": [],
   "source": [
    "df = pd.read_csv(os.path.join(data_folder, 'creditcard.csv'), index_col=None)"
   ]
  },
  {
   "cell_type": "code",
   "execution_count": 7,
   "id": "cc5feac6",
   "metadata": {},
   "outputs": [
    {
     "name": "stdout",
     "output_type": "stream",
     "text": [
      "data shape: (284807, 31)\n"
     ]
    },
    {
     "data": {
      "text/html": [
       "<div>\n",
       "<style scoped>\n",
       "    .dataframe tbody tr th:only-of-type {\n",
       "        vertical-align: middle;\n",
       "    }\n",
       "\n",
       "    .dataframe tbody tr th {\n",
       "        vertical-align: top;\n",
       "    }\n",
       "\n",
       "    .dataframe thead th {\n",
       "        text-align: right;\n",
       "    }\n",
       "</style>\n",
       "<table border=\"1\" class=\"dataframe\">\n",
       "  <thead>\n",
       "    <tr style=\"text-align: right;\">\n",
       "      <th></th>\n",
       "      <th>Time</th>\n",
       "      <th>V1</th>\n",
       "      <th>V2</th>\n",
       "      <th>V3</th>\n",
       "      <th>V4</th>\n",
       "      <th>V5</th>\n",
       "      <th>V6</th>\n",
       "      <th>V7</th>\n",
       "      <th>V8</th>\n",
       "      <th>V9</th>\n",
       "      <th>...</th>\n",
       "      <th>V21</th>\n",
       "      <th>V22</th>\n",
       "      <th>V23</th>\n",
       "      <th>V24</th>\n",
       "      <th>V25</th>\n",
       "      <th>V26</th>\n",
       "      <th>V27</th>\n",
       "      <th>V28</th>\n",
       "      <th>Amount</th>\n",
       "      <th>Class</th>\n",
       "    </tr>\n",
       "  </thead>\n",
       "  <tbody>\n",
       "    <tr>\n",
       "      <th>0</th>\n",
       "      <td>0.0</td>\n",
       "      <td>-1.359807</td>\n",
       "      <td>-0.072781</td>\n",
       "      <td>2.536347</td>\n",
       "      <td>1.378155</td>\n",
       "      <td>-0.338321</td>\n",
       "      <td>0.462388</td>\n",
       "      <td>0.239599</td>\n",
       "      <td>0.098698</td>\n",
       "      <td>0.363787</td>\n",
       "      <td>...</td>\n",
       "      <td>-0.018307</td>\n",
       "      <td>0.277838</td>\n",
       "      <td>-0.110474</td>\n",
       "      <td>0.066928</td>\n",
       "      <td>0.128539</td>\n",
       "      <td>-0.189115</td>\n",
       "      <td>0.133558</td>\n",
       "      <td>-0.021053</td>\n",
       "      <td>149.62</td>\n",
       "      <td>0</td>\n",
       "    </tr>\n",
       "    <tr>\n",
       "      <th>1</th>\n",
       "      <td>0.0</td>\n",
       "      <td>1.191857</td>\n",
       "      <td>0.266151</td>\n",
       "      <td>0.166480</td>\n",
       "      <td>0.448154</td>\n",
       "      <td>0.060018</td>\n",
       "      <td>-0.082361</td>\n",
       "      <td>-0.078803</td>\n",
       "      <td>0.085102</td>\n",
       "      <td>-0.255425</td>\n",
       "      <td>...</td>\n",
       "      <td>-0.225775</td>\n",
       "      <td>-0.638672</td>\n",
       "      <td>0.101288</td>\n",
       "      <td>-0.339846</td>\n",
       "      <td>0.167170</td>\n",
       "      <td>0.125895</td>\n",
       "      <td>-0.008983</td>\n",
       "      <td>0.014724</td>\n",
       "      <td>2.69</td>\n",
       "      <td>0</td>\n",
       "    </tr>\n",
       "    <tr>\n",
       "      <th>2</th>\n",
       "      <td>1.0</td>\n",
       "      <td>-1.358354</td>\n",
       "      <td>-1.340163</td>\n",
       "      <td>1.773209</td>\n",
       "      <td>0.379780</td>\n",
       "      <td>-0.503198</td>\n",
       "      <td>1.800499</td>\n",
       "      <td>0.791461</td>\n",
       "      <td>0.247676</td>\n",
       "      <td>-1.514654</td>\n",
       "      <td>...</td>\n",
       "      <td>0.247998</td>\n",
       "      <td>0.771679</td>\n",
       "      <td>0.909412</td>\n",
       "      <td>-0.689281</td>\n",
       "      <td>-0.327642</td>\n",
       "      <td>-0.139097</td>\n",
       "      <td>-0.055353</td>\n",
       "      <td>-0.059752</td>\n",
       "      <td>378.66</td>\n",
       "      <td>0</td>\n",
       "    </tr>\n",
       "    <tr>\n",
       "      <th>3</th>\n",
       "      <td>1.0</td>\n",
       "      <td>-0.966272</td>\n",
       "      <td>-0.185226</td>\n",
       "      <td>1.792993</td>\n",
       "      <td>-0.863291</td>\n",
       "      <td>-0.010309</td>\n",
       "      <td>1.247203</td>\n",
       "      <td>0.237609</td>\n",
       "      <td>0.377436</td>\n",
       "      <td>-1.387024</td>\n",
       "      <td>...</td>\n",
       "      <td>-0.108300</td>\n",
       "      <td>0.005274</td>\n",
       "      <td>-0.190321</td>\n",
       "      <td>-1.175575</td>\n",
       "      <td>0.647376</td>\n",
       "      <td>-0.221929</td>\n",
       "      <td>0.062723</td>\n",
       "      <td>0.061458</td>\n",
       "      <td>123.50</td>\n",
       "      <td>0</td>\n",
       "    </tr>\n",
       "    <tr>\n",
       "      <th>4</th>\n",
       "      <td>2.0</td>\n",
       "      <td>-1.158233</td>\n",
       "      <td>0.877737</td>\n",
       "      <td>1.548718</td>\n",
       "      <td>0.403034</td>\n",
       "      <td>-0.407193</td>\n",
       "      <td>0.095921</td>\n",
       "      <td>0.592941</td>\n",
       "      <td>-0.270533</td>\n",
       "      <td>0.817739</td>\n",
       "      <td>...</td>\n",
       "      <td>-0.009431</td>\n",
       "      <td>0.798278</td>\n",
       "      <td>-0.137458</td>\n",
       "      <td>0.141267</td>\n",
       "      <td>-0.206010</td>\n",
       "      <td>0.502292</td>\n",
       "      <td>0.219422</td>\n",
       "      <td>0.215153</td>\n",
       "      <td>69.99</td>\n",
       "      <td>0</td>\n",
       "    </tr>\n",
       "  </tbody>\n",
       "</table>\n",
       "<p>5 rows × 31 columns</p>\n",
       "</div>"
      ],
      "text/plain": [
       "   Time        V1        V2        V3        V4        V5        V6        V7  \\\n",
       "0   0.0 -1.359807 -0.072781  2.536347  1.378155 -0.338321  0.462388  0.239599   \n",
       "1   0.0  1.191857  0.266151  0.166480  0.448154  0.060018 -0.082361 -0.078803   \n",
       "2   1.0 -1.358354 -1.340163  1.773209  0.379780 -0.503198  1.800499  0.791461   \n",
       "3   1.0 -0.966272 -0.185226  1.792993 -0.863291 -0.010309  1.247203  0.237609   \n",
       "4   2.0 -1.158233  0.877737  1.548718  0.403034 -0.407193  0.095921  0.592941   \n",
       "\n",
       "         V8        V9  ...       V21       V22       V23       V24       V25  \\\n",
       "0  0.098698  0.363787  ... -0.018307  0.277838 -0.110474  0.066928  0.128539   \n",
       "1  0.085102 -0.255425  ... -0.225775 -0.638672  0.101288 -0.339846  0.167170   \n",
       "2  0.247676 -1.514654  ...  0.247998  0.771679  0.909412 -0.689281 -0.327642   \n",
       "3  0.377436 -1.387024  ... -0.108300  0.005274 -0.190321 -1.175575  0.647376   \n",
       "4 -0.270533  0.817739  ... -0.009431  0.798278 -0.137458  0.141267 -0.206010   \n",
       "\n",
       "        V26       V27       V28  Amount  Class  \n",
       "0 -0.189115  0.133558 -0.021053  149.62      0  \n",
       "1  0.125895 -0.008983  0.014724    2.69      0  \n",
       "2 -0.139097 -0.055353 -0.059752  378.66      0  \n",
       "3 -0.221929  0.062723  0.061458  123.50      0  \n",
       "4  0.502292  0.219422  0.215153   69.99      0  \n",
       "\n",
       "[5 rows x 31 columns]"
      ]
     },
     "execution_count": 7,
     "metadata": {},
     "output_type": "execute_result"
    }
   ],
   "source": [
    "print(f'data shape: {df.shape}')\n",
    "df.head()"
   ]
  },
  {
   "cell_type": "code",
   "execution_count": 8,
   "id": "22d16861",
   "metadata": {},
   "outputs": [],
   "source": [
    "# df.info()"
   ]
  },
  {
   "cell_type": "code",
   "execution_count": 9,
   "id": "1d0aab43",
   "metadata": {},
   "outputs": [
    {
     "data": {
      "image/png": "[encoded data removed]",
      "text/plain": [
       "<Figure size 1200x600 with 2 Axes>"
      ]
     },
     "metadata": {},
     "output_type": "display_data"
    }
   ],
   "source": [
    "# df['Time'].describe()\n",
    "# fig, ax = plt.subplots(nrows=1, ncols=2)\n",
    "\n",
    "plt.figure(figsize=(12,6))\n",
    "\n",
    "plt.subplot(1, 2, 1)\n",
    "plt.plot(df['Amount'], label='Amount')\n",
    "plt.legend()\n",
    "plt.title(\"Amount\")\n",
    "\n",
    "plt.subplot(1, 2, 2)\n",
    "plt.plot(df['Time'], c='r',label='Time')\n",
    "plt.legend()\n",
    "plt.title(\"Time\")\n",
    "\n",
    "plt.tight_layout()"
   ]
  },
  {
   "cell_type": "markdown",
   "id": "d2e22061",
   "metadata": {},
   "source": [
    "### Scale desired data"
   ]
  },
  {
   "cell_type": "code",
   "execution_count": 10,
   "id": "b807a6dc",
   "metadata": {},
   "outputs": [],
   "source": [
    "scaler = StandardScaler()\n",
    "df['Amount'] = scaler.fit_transform(df['Amount'].values.reshape(-1, 1))\n",
    "df['Time'] = scaler.fit_transform(df['Time'].values.reshape(-1, 1))"
   ]
  },
  {
   "cell_type": "code",
   "execution_count": 11,
   "id": "eb76676e",
   "metadata": {},
   "outputs": [
    {
     "data": {
      "text/html": [
       "<div>\n",
       "<style scoped>\n",
       "    .dataframe tbody tr th:only-of-type {\n",
       "        vertical-align: middle;\n",
       "    }\n",
       "\n",
       "    .dataframe tbody tr th {\n",
       "        vertical-align: top;\n",
       "    }\n",
       "\n",
       "    .dataframe thead th {\n",
       "        text-align: right;\n",
       "    }\n",
       "</style>\n",
       "<table border=\"1\" class=\"dataframe\">\n",
       "  <thead>\n",
       "    <tr style=\"text-align: right;\">\n",
       "      <th></th>\n",
       "      <th>Amount</th>\n",
       "      <th>Time</th>\n",
       "    </tr>\n",
       "  </thead>\n",
       "  <tbody>\n",
       "    <tr>\n",
       "      <th>count</th>\n",
       "      <td>2.848070e+05</td>\n",
       "      <td>2.848070e+05</td>\n",
       "    </tr>\n",
       "    <tr>\n",
       "      <th>mean</th>\n",
       "      <td>2.913952e-17</td>\n",
       "      <td>-3.065637e-16</td>\n",
       "    </tr>\n",
       "    <tr>\n",
       "      <th>std</th>\n",
       "      <td>1.000002e+00</td>\n",
       "      <td>1.000002e+00</td>\n",
       "    </tr>\n",
       "    <tr>\n",
       "      <th>min</th>\n",
       "      <td>-3.532294e-01</td>\n",
       "      <td>-1.996583e+00</td>\n",
       "    </tr>\n",
       "    <tr>\n",
       "      <th>25%</th>\n",
       "      <td>-3.308401e-01</td>\n",
       "      <td>-8.552120e-01</td>\n",
       "    </tr>\n",
       "    <tr>\n",
       "      <th>50%</th>\n",
       "      <td>-2.652715e-01</td>\n",
       "      <td>-2.131453e-01</td>\n",
       "    </tr>\n",
       "    <tr>\n",
       "      <th>75%</th>\n",
       "      <td>-4.471707e-02</td>\n",
       "      <td>9.372174e-01</td>\n",
       "    </tr>\n",
       "    <tr>\n",
       "      <th>max</th>\n",
       "      <td>1.023622e+02</td>\n",
       "      <td>1.642058e+00</td>\n",
       "    </tr>\n",
       "  </tbody>\n",
       "</table>\n",
       "</div>"
      ],
      "text/plain": [
       "             Amount          Time\n",
       "count  2.848070e+05  2.848070e+05\n",
       "mean   2.913952e-17 -3.065637e-16\n",
       "std    1.000002e+00  1.000002e+00\n",
       "min   -3.532294e-01 -1.996583e+00\n",
       "25%   -3.308401e-01 -8.552120e-01\n",
       "50%   -2.652715e-01 -2.131453e-01\n",
       "75%   -4.471707e-02  9.372174e-01\n",
       "max    1.023622e+02  1.642058e+00"
      ]
     },
     "execution_count": 11,
     "metadata": {},
     "output_type": "execute_result"
    }
   ],
   "source": [
    "df[['Amount', 'Time']].describe()"
   ]
  },
  {
   "cell_type": "markdown",
   "id": "4570c898",
   "metadata": {},
   "source": [
    "### Shuffle and split data"
   ]
  },
  {
   "cell_type": "code",
   "execution_count": 12,
   "id": "b07af3ba",
   "metadata": {},
   "outputs": [
    {
     "data": {
      "text/plain": [
       "((492, 31), (284315, 31))"
      ]
     },
     "execution_count": 12,
     "metadata": {},
     "output_type": "execute_result"
    }
   ],
   "source": [
    "anomalies = df[df[\"Class\"] == 1]\n",
    "normal = df[df[\"Class\"] == 0]\n",
    "\n",
    "anomalies.shape, normal.shape"
   ]
  },
  {
   "cell_type": "code",
   "execution_count": 13,
   "id": "ed05bc80",
   "metadata": {},
   "outputs": [],
   "source": [
    "for i in range(0, 20):\n",
    "    # np.random.permutation: Randomly permute a sequence\n",
    "    normal = normal.iloc[np.random.permutation(len(normal))]"
   ]
  },
  {
   "cell_type": "code",
   "execution_count": 14,
   "id": "fc9b7faf",
   "metadata": {},
   "outputs": [],
   "source": [
    "dataset = pd.concat([normal[:10000], anomalies])\n",
    "\n",
    "x_train, x_test = train_test_split(dataset, test_size=0.4, random_state=101)\n",
    "\n",
    "x_train = x_train.sort_values(by=['Time'])\n",
    "x_test = x_test.sort_values(by=['Time'])\n",
    "\n",
    "y_train = x_train['Class'].copy()\n",
    "y_test = x_test['Class'].copy()\n",
    "\n",
    "\n",
    "# x_train.drop('Class', axis=1, inplace=True)\n",
    "# x_test.drop('Class', axis=1, inplace=True)\n",
    "\n"
   ]
  },
  {
   "cell_type": "code",
   "execution_count": 15,
   "id": "ba053bd5",
   "metadata": {},
   "outputs": [
    {
     "data": {
      "text/html": [
       "<div>\n",
       "<style scoped>\n",
       "    .dataframe tbody tr th:only-of-type {\n",
       "        vertical-align: middle;\n",
       "    }\n",
       "\n",
       "    .dataframe tbody tr th {\n",
       "        vertical-align: top;\n",
       "    }\n",
       "\n",
       "    .dataframe thead th {\n",
       "        text-align: right;\n",
       "    }\n",
       "</style>\n",
       "<table border=\"1\" class=\"dataframe\">\n",
       "  <thead>\n",
       "    <tr style=\"text-align: right;\">\n",
       "      <th></th>\n",
       "      <th>Time</th>\n",
       "      <th>V1</th>\n",
       "      <th>V2</th>\n",
       "      <th>V3</th>\n",
       "      <th>V4</th>\n",
       "      <th>V5</th>\n",
       "      <th>V6</th>\n",
       "      <th>V7</th>\n",
       "      <th>V8</th>\n",
       "      <th>V9</th>\n",
       "      <th>...</th>\n",
       "      <th>V21</th>\n",
       "      <th>V22</th>\n",
       "      <th>V23</th>\n",
       "      <th>V24</th>\n",
       "      <th>V25</th>\n",
       "      <th>V26</th>\n",
       "      <th>V27</th>\n",
       "      <th>V28</th>\n",
       "      <th>Amount</th>\n",
       "      <th>Class</th>\n",
       "    </tr>\n",
       "  </thead>\n",
       "  <tbody>\n",
       "    <tr>\n",
       "      <th>107</th>\n",
       "      <td>-1.995088</td>\n",
       "      <td>1.331897</td>\n",
       "      <td>-0.579962</td>\n",
       "      <td>0.422606</td>\n",
       "      <td>-0.897752</td>\n",
       "      <td>-0.746254</td>\n",
       "      <td>-0.056273</td>\n",
       "      <td>-0.750317</td>\n",
       "      <td>0.128484</td>\n",
       "      <td>-0.964682</td>\n",
       "      <td>...</td>\n",
       "      <td>-0.039070</td>\n",
       "      <td>-0.255174</td>\n",
       "      <td>0.109333</td>\n",
       "      <td>-0.328448</td>\n",
       "      <td>0.162254</td>\n",
       "      <td>-0.447276</td>\n",
       "      <td>0.020071</td>\n",
       "      <td>0.006231</td>\n",
       "      <td>-0.295337</td>\n",
       "      <td>0</td>\n",
       "    </tr>\n",
       "    <tr>\n",
       "      <th>162</th>\n",
       "      <td>-1.994414</td>\n",
       "      <td>-0.940893</td>\n",
       "      <td>1.074155</td>\n",
       "      <td>1.759398</td>\n",
       "      <td>-0.601446</td>\n",
       "      <td>0.101693</td>\n",
       "      <td>-0.188520</td>\n",
       "      <td>0.455756</td>\n",
       "      <td>-3.460682</td>\n",
       "      <td>0.441525</td>\n",
       "      <td>...</td>\n",
       "      <td>2.270069</td>\n",
       "      <td>-0.143518</td>\n",
       "      <td>0.153908</td>\n",
       "      <td>0.700927</td>\n",
       "      <td>-0.413235</td>\n",
       "      <td>1.374031</td>\n",
       "      <td>-0.996161</td>\n",
       "      <td>-0.836301</td>\n",
       "      <td>-0.313289</td>\n",
       "      <td>0</td>\n",
       "    </tr>\n",
       "    <tr>\n",
       "      <th>173</th>\n",
       "      <td>-1.994246</td>\n",
       "      <td>-0.820860</td>\n",
       "      <td>1.022567</td>\n",
       "      <td>1.996560</td>\n",
       "      <td>1.180141</td>\n",
       "      <td>0.232464</td>\n",
       "      <td>-0.123953</td>\n",
       "      <td>0.684371</td>\n",
       "      <td>-0.008256</td>\n",
       "      <td>-0.572410</td>\n",
       "      <td>...</td>\n",
       "      <td>0.000169</td>\n",
       "      <td>0.183382</td>\n",
       "      <td>-0.299915</td>\n",
       "      <td>0.431806</td>\n",
       "      <td>0.456705</td>\n",
       "      <td>-0.213298</td>\n",
       "      <td>-0.033161</td>\n",
       "      <td>0.088372</td>\n",
       "      <td>-0.313289</td>\n",
       "      <td>0</td>\n",
       "    </tr>\n",
       "    <tr>\n",
       "      <th>296</th>\n",
       "      <td>-1.992140</td>\n",
       "      <td>0.263523</td>\n",
       "      <td>-1.812897</td>\n",
       "      <td>-0.311087</td>\n",
       "      <td>0.412930</td>\n",
       "      <td>-0.794605</td>\n",
       "      <td>0.196365</td>\n",
       "      <td>0.416626</td>\n",
       "      <td>-0.062991</td>\n",
       "      <td>0.345392</td>\n",
       "      <td>...</td>\n",
       "      <td>0.002672</td>\n",
       "      <td>-1.042342</td>\n",
       "      <td>-0.480538</td>\n",
       "      <td>-0.414743</td>\n",
       "      <td>0.111706</td>\n",
       "      <td>0.819590</td>\n",
       "      <td>-0.168906</td>\n",
       "      <td>0.078203</td>\n",
       "      <td>1.753602</td>\n",
       "      <td>0</td>\n",
       "    </tr>\n",
       "    <tr>\n",
       "      <th>398</th>\n",
       "      <td>-1.990518</td>\n",
       "      <td>1.268069</td>\n",
       "      <td>0.285832</td>\n",
       "      <td>-0.147276</td>\n",
       "      <td>1.047742</td>\n",
       "      <td>0.672115</td>\n",
       "      <td>0.656656</td>\n",
       "      <td>0.138315</td>\n",
       "      <td>-0.010785</td>\n",
       "      <td>0.158271</td>\n",
       "      <td>...</td>\n",
       "      <td>-0.177627</td>\n",
       "      <td>-0.189526</td>\n",
       "      <td>-0.251549</td>\n",
       "      <td>-1.266236</td>\n",
       "      <td>0.901899</td>\n",
       "      <td>-0.230845</td>\n",
       "      <td>0.048271</td>\n",
       "      <td>0.004764</td>\n",
       "      <td>-0.327082</td>\n",
       "      <td>0</td>\n",
       "    </tr>\n",
       "    <tr>\n",
       "      <th>445</th>\n",
       "      <td>-1.989781</td>\n",
       "      <td>-0.704133</td>\n",
       "      <td>0.341397</td>\n",
       "      <td>1.740027</td>\n",
       "      <td>-1.661595</td>\n",
       "      <td>0.872313</td>\n",
       "      <td>-0.007311</td>\n",
       "      <td>0.923083</td>\n",
       "      <td>-0.575939</td>\n",
       "      <td>0.447697</td>\n",
       "      <td>...</td>\n",
       "      <td>-0.206984</td>\n",
       "      <td>-0.321045</td>\n",
       "      <td>-0.334626</td>\n",
       "      <td>-0.813176</td>\n",
       "      <td>-0.265089</td>\n",
       "      <td>0.689043</td>\n",
       "      <td>-0.904113</td>\n",
       "      <td>-0.579831</td>\n",
       "      <td>-0.350151</td>\n",
       "      <td>0</td>\n",
       "    </tr>\n",
       "    <tr>\n",
       "      <th>518</th>\n",
       "      <td>-1.988518</td>\n",
       "      <td>-0.671983</td>\n",
       "      <td>1.286814</td>\n",
       "      <td>1.575214</td>\n",
       "      <td>-0.289993</td>\n",
       "      <td>0.601959</td>\n",
       "      <td>-0.399923</td>\n",
       "      <td>1.466422</td>\n",
       "      <td>-0.792099</td>\n",
       "      <td>0.747273</td>\n",
       "      <td>...</td>\n",
       "      <td>-0.535865</td>\n",
       "      <td>-0.529531</td>\n",
       "      <td>-0.112928</td>\n",
       "      <td>0.014225</td>\n",
       "      <td>-0.183674</td>\n",
       "      <td>0.001701</td>\n",
       "      <td>-0.065969</td>\n",
       "      <td>-0.620860</td>\n",
       "      <td>-0.289260</td>\n",
       "      <td>0</td>\n",
       "    </tr>\n",
       "    <tr>\n",
       "      <th>541</th>\n",
       "      <td>-1.988034</td>\n",
       "      <td>-2.312227</td>\n",
       "      <td>1.951992</td>\n",
       "      <td>-1.609851</td>\n",
       "      <td>3.997906</td>\n",
       "      <td>-0.522188</td>\n",
       "      <td>-1.426545</td>\n",
       "      <td>-2.537387</td>\n",
       "      <td>1.391657</td>\n",
       "      <td>-2.770089</td>\n",
       "      <td>...</td>\n",
       "      <td>0.517232</td>\n",
       "      <td>-0.035049</td>\n",
       "      <td>-0.465211</td>\n",
       "      <td>0.320198</td>\n",
       "      <td>0.044519</td>\n",
       "      <td>0.177840</td>\n",
       "      <td>0.261145</td>\n",
       "      <td>-0.143276</td>\n",
       "      <td>-0.353229</td>\n",
       "      <td>1</td>\n",
       "    </tr>\n",
       "    <tr>\n",
       "      <th>556</th>\n",
       "      <td>-1.987865</td>\n",
       "      <td>-1.043068</td>\n",
       "      <td>1.044582</td>\n",
       "      <td>0.292186</td>\n",
       "      <td>-2.378536</td>\n",
       "      <td>-0.189793</td>\n",
       "      <td>-0.920526</td>\n",
       "      <td>0.178722</td>\n",
       "      <td>-0.384095</td>\n",
       "      <td>0.237234</td>\n",
       "      <td>...</td>\n",
       "      <td>0.934064</td>\n",
       "      <td>0.316389</td>\n",
       "      <td>-0.004709</td>\n",
       "      <td>0.268738</td>\n",
       "      <td>-0.177186</td>\n",
       "      <td>-0.126936</td>\n",
       "      <td>0.290259</td>\n",
       "      <td>0.127530</td>\n",
       "      <td>-0.349231</td>\n",
       "      <td>0</td>\n",
       "    </tr>\n",
       "    <tr>\n",
       "      <th>563</th>\n",
       "      <td>-1.987718</td>\n",
       "      <td>1.121785</td>\n",
       "      <td>0.206367</td>\n",
       "      <td>0.529086</td>\n",
       "      <td>1.318229</td>\n",
       "      <td>-0.161515</td>\n",
       "      <td>0.024067</td>\n",
       "      <td>-0.020503</td>\n",
       "      <td>0.103401</td>\n",
       "      <td>-0.023411</td>\n",
       "      <td>...</td>\n",
       "      <td>-0.037897</td>\n",
       "      <td>0.121195</td>\n",
       "      <td>-0.046623</td>\n",
       "      <td>0.239376</td>\n",
       "      <td>0.617560</td>\n",
       "      <td>-0.342429</td>\n",
       "      <td>0.039618</td>\n",
       "      <td>0.007107</td>\n",
       "      <td>-0.349231</td>\n",
       "      <td>0</td>\n",
       "    </tr>\n",
       "  </tbody>\n",
       "</table>\n",
       "<p>10 rows × 31 columns</p>\n",
       "</div>"
      ],
      "text/plain": [
       "         Time        V1        V2        V3        V4        V5        V6  \\\n",
       "107 -1.995088  1.331897 -0.579962  0.422606 -0.897752 -0.746254 -0.056273   \n",
       "162 -1.994414 -0.940893  1.074155  1.759398 -0.601446  0.101693 -0.188520   \n",
       "173 -1.994246 -0.820860  1.022567  1.996560  1.180141  0.232464 -0.123953   \n",
       "296 -1.992140  0.263523 -1.812897 -0.311087  0.412930 -0.794605  0.196365   \n",
       "398 -1.990518  1.268069  0.285832 -0.147276  1.047742  0.672115  0.656656   \n",
       "445 -1.989781 -0.704133  0.341397  1.740027 -1.661595  0.872313 -0.007311   \n",
       "518 -1.988518 -0.671983  1.286814  1.575214 -0.289993  0.601959 -0.399923   \n",
       "541 -1.988034 -2.312227  1.951992 -1.609851  3.997906 -0.522188 -1.426545   \n",
       "556 -1.987865 -1.043068  1.044582  0.292186 -2.378536 -0.189793 -0.920526   \n",
       "563 -1.987718  1.121785  0.206367  0.529086  1.318229 -0.161515  0.024067   \n",
       "\n",
       "           V7        V8        V9  ...       V21       V22       V23  \\\n",
       "107 -0.750317  0.128484 -0.964682  ... -0.039070 -0.255174  0.109333   \n",
       "162  0.455756 -3.460682  0.441525  ...  2.270069 -0.143518  0.153908   \n",
       "173  0.684371 -0.008256 -0.572410  ...  0.000169  0.183382 -0.299915   \n",
       "296  0.416626 -0.062991  0.345392  ...  0.002672 -1.042342 -0.480538   \n",
       "398  0.138315 -0.010785  0.158271  ... -0.177627 -0.189526 -0.251549   \n",
       "445  0.923083 -0.575939  0.447697  ... -0.206984 -0.321045 -0.334626   \n",
       "518  1.466422 -0.792099  0.747273  ... -0.535865 -0.529531 -0.112928   \n",
       "541 -2.537387  1.391657 -2.770089  ...  0.517232 -0.035049 -0.465211   \n",
       "556  0.178722 -0.384095  0.237234  ...  0.934064  0.316389 -0.004709   \n",
       "563 -0.020503  0.103401 -0.023411  ... -0.037897  0.121195 -0.046623   \n",
       "\n",
       "          V24       V25       V26       V27       V28    Amount  Class  \n",
       "107 -0.328448  0.162254 -0.447276  0.020071  0.006231 -0.295337      0  \n",
       "162  0.700927 -0.413235  1.374031 -0.996161 -0.836301 -0.313289      0  \n",
       "173  0.431806  0.456705 -0.213298 -0.033161  0.088372 -0.313289      0  \n",
       "296 -0.414743  0.111706  0.819590 -0.168906  0.078203  1.753602      0  \n",
       "398 -1.266236  0.901899 -0.230845  0.048271  0.004764 -0.327082      0  \n",
       "445 -0.813176 -0.265089  0.689043 -0.904113 -0.579831 -0.350151      0  \n",
       "518  0.014225 -0.183674  0.001701 -0.065969 -0.620860 -0.289260      0  \n",
       "541  0.320198  0.044519  0.177840  0.261145 -0.143276 -0.353229      1  \n",
       "556  0.268738 -0.177186 -0.126936  0.290259  0.127530 -0.349231      0  \n",
       "563  0.239376  0.617560 -0.342429  0.039618  0.007107 -0.349231      0  \n",
       "\n",
       "[10 rows x 31 columns]"
      ]
     },
     "execution_count": 15,
     "metadata": {},
     "output_type": "execute_result"
    }
   ],
   "source": [
    "x_train.head(10)"
   ]
  },
  {
   "cell_type": "code",
   "execution_count": 16,
   "id": "dc86492b",
   "metadata": {},
   "outputs": [
    {
     "data": {
      "text/plain": [
       "0    5996\n",
       "1     299\n",
       "Name: Class, dtype: int64"
      ]
     },
     "execution_count": 16,
     "metadata": {},
     "output_type": "execute_result"
    }
   ],
   "source": [
    "# Normal and anomalouse Classes comparison\n",
    "x_train['Class'].value_counts()"
   ]
  },
  {
   "cell_type": "code",
   "execution_count": 17,
   "id": "4995921f",
   "metadata": {},
   "outputs": [
    {
     "name": "stdout",
     "output_type": "stream",
     "text": [
      "Shapes:\n",
      "x_train:(6295, 31) \n",
      "y_train :(6295,) \n",
      "\n",
      "x_test:(4197, 31) \n",
      "y_test: (4197,) \n",
      "\n"
     ]
    }
   ],
   "source": [
    "print(\"Shapes:\")\n",
    "print(\"x_train:%s \\ny_train :%s \\n\" % (x_train.shape, y_train.shape))\n",
    "print(\"x_test:%s \\ny_test: %s \\n\" % (x_test.shape, y_test.shape))"
   ]
  },
  {
   "cell_type": "markdown",
   "id": "716ab422",
   "metadata": {},
   "source": [
    "**To pass the data sets into the CONVOLUTIONAL model:</BR></BR>\n",
    "1- the x sets must be 3-d, (num of samples, data rows, data cols)</BR></BR>\n",
    "2- the y sets must be 2-d (OneHot Matrix for output)**"
   ]
  },
  {
   "cell_type": "code",
   "execution_count": 18,
   "id": "1042363c",
   "metadata": {},
   "outputs": [
    {
     "name": "stdout",
     "output_type": "stream",
     "text": [
      "x_train shape: (6295, 31, 1)\n",
      "x_test shape: (4197, 31, 1)\n",
      "\n",
      "input shape: (31, 1)\n"
     ]
    }
   ],
   "source": [
    "x_train = np.array(x_train).reshape(x_train.shape[0], x_train.shape[1], 1)\n",
    "x_test = np.array(x_test).reshape(x_test.shape[0], x_test.shape[1], 1)\n",
    "input_shape = (x_train.shape[1], 1)\n",
    "\n",
    "print(f'x_train shape: {x_train.shape}')\n",
    "print(f'x_test shape: {x_test.shape}\\n')\n",
    "print(f'input shape: {input_shape}')"
   ]
  },
  {
   "cell_type": "code",
   "execution_count": 19,
   "id": "6e5cae74",
   "metadata": {},
   "outputs": [
    {
     "data": {
      "text/plain": [
       "(31, 1)"
      ]
     },
     "execution_count": 19,
     "metadata": {},
     "output_type": "execute_result"
    }
   ],
   "source": [
    "x_train[0].shape"
   ]
  },
  {
   "cell_type": "code",
   "execution_count": 20,
   "id": "689d4f2e",
   "metadata": {},
   "outputs": [
    {
     "name": "stdout",
     "output_type": "stream",
     "text": [
      "y_train shape: (6295, 2)\n",
      "y_test shape: (4197, 2)\n"
     ]
    }
   ],
   "source": [
    "y_train = keras.utils.to_categorical(y_train, 2)\n",
    "y_test = keras.utils.to_categorical(y_test, 2)\n",
    "\n",
    "print(f'y_train shape: {y_train.shape}')\n",
    "print(f'y_test shape: {y_test.shape}')"
   ]
  },
  {
   "cell_type": "code",
   "execution_count": 21,
   "id": "355df505",
   "metadata": {},
   "outputs": [
    {
     "data": {
      "text/plain": [
       "array([[1., 0.],\n",
       "       [1., 0.],\n",
       "       [1., 0.],\n",
       "       [1., 0.]], dtype=float32)"
      ]
     },
     "execution_count": 21,
     "metadata": {},
     "output_type": "execute_result"
    }
   ],
   "source": [
    "# as you see below the y is a one hot matrix for label.\n",
    "y_train[14:18]"
   ]
  },
  {
   "cell_type": "code",
   "execution_count": 22,
   "id": "0d11a07d",
   "metadata": {},
   "outputs": [],
   "source": [
    "input_layer = Input(shape=(input_shape))\n",
    "\n",
    "#Series of temporal convolutional layers with dilations increasing by powers of 2.\n",
    "conv_1 = Conv1D(filters=128, kernel_size=2, dilation_rate=1,\n",
    "                padding='causal', strides=1,input_shape=input_shape,\n",
    "                kernel_regularizer=regularizers.l2(0.01),\n",
    "                activation='relu')(input_layer)\n",
    "\n",
    "#Dropout layer after each 1D-convolutional layer\n",
    "drop_1 = SpatialDropout1D(0.05)(conv_1)\n",
    "\n",
    "conv_2 = Conv1D(filters=128, kernel_size=2, dilation_rate=2,\n",
    "                padding='causal',strides=1, kernel_regularizer=regularizers.l2(0.01),\n",
    "                activation='relu')(drop_1)\n",
    "\n",
    "drop_2 = SpatialDropout1D(0.05)(conv_2)\n",
    "\n",
    "conv_3 = Conv1D(filters=128, kernel_size=2, dilation_rate=4,\n",
    "                padding='causal', strides=1,kernel_regularizer=regularizers.l2(0.01),\n",
    "                activation='relu')(drop_2)\n",
    "\n",
    "drop_3 = SpatialDropout1D(0.05)(conv_3)\n",
    "\n",
    "conv_4 = Conv1D(filters=128, kernel_size=2, dilation_rate=8,\n",
    "                padding='causal', strides=1,kernel_regularizer=regularizers.l2(0.05),\n",
    "                activation='relu')(drop_3)\n",
    "\n",
    "drop_4 = SpatialDropout1D(0.05)(conv_4)\n",
    "\n",
    "#Flatten layer to feed into the output layer\n",
    "flat = Flatten()(drop_4)\n",
    "\n",
    "output_layer = Dense(2, activation='softmax')(flat)\n",
    "\n",
    "TCN = Model(inputs=input_layer, outputs=output_layer)"
   ]
  },
  {
   "cell_type": "code",
   "execution_count": 23,
   "id": "1ed62a11",
   "metadata": {},
   "outputs": [
    {
     "name": "stdout",
     "output_type": "stream",
     "text": [
      "Model: \"model\"\n",
      "_________________________________________________________________\n",
      " Layer (type)                Output Shape              Param #   \n",
      "=================================================================\n",
      " input_1 (InputLayer)        [(None, 31, 1)]           0         \n",
      "                                                                 \n",
      " conv1d (Conv1D)             (None, 31, 128)           384       \n",
      "                                                                 \n",
      " spatial_dropout1d (Spatial  (None, 31, 128)           0         \n",
      " Dropout1D)                                                      \n",
      "                                                                 \n",
      " conv1d_1 (Conv1D)           (None, 31, 128)           32896     \n",
      "                                                                 \n",
      " spatial_dropout1d_1 (Spati  (None, 31, 128)           0         \n",
      " alDropout1D)                                                    \n",
      "                                                                 \n",
      " conv1d_2 (Conv1D)           (None, 31, 128)           32896     \n",
      "                                                                 \n",
      " spatial_dropout1d_2 (Spati  (None, 31, 128)           0         \n",
      " alDropout1D)                                                    \n",
      "                                                                 \n",
      " conv1d_3 (Conv1D)           (None, 31, 128)           32896     \n",
      "                                                                 \n",
      " spatial_dropout1d_3 (Spati  (None, 31, 128)           0         \n",
      " alDropout1D)                                                    \n",
      "                                                                 \n",
      " flatten (Flatten)           (None, 3968)              0         \n",
      "                                                                 \n",
      " dense (Dense)               (None, 2)                 7938      \n",
      "                                                                 \n",
      "=================================================================\n",
      "Total params: 107010 (418.01 KB)\n",
      "Trainable params: 107010 (418.01 KB)\n",
      "Non-trainable params: 0 (0.00 Byte)\n",
      "_________________________________________________________________\n"
     ]
    }
   ],
   "source": [
    "TCN.compile(loss='mean_squared_error',\n",
    "              optimizer=optimizers.Adam(learning_rate=0.002),\n",
    "              metrics=['mae', 'accuracy'])\n",
    "\n",
    "checkpointer = ModelCheckpoint(filepath=\"model_TCN_creditcard.h5\",\n",
    "                               verbose=0,\n",
    "                               save_best_only=True)\n",
    "\n",
    "TCN.summary()"
   ]
  },
  {
   "cell_type": "code",
   "execution_count": 24,
   "id": "b2a227d0",
   "metadata": {},
   "outputs": [
    {
     "name": "stdout",
     "output_type": "stream",
     "text": [
      "Epoch 1/10\n",
      "50/50 [==============================] - 2s 38ms/step - loss: 2.8241 - mae: 0.1057 - accuracy: 0.9438 - val_loss: 0.1945 - val_mae: 0.0825 - val_accuracy: 0.9540\n",
      "Epoch 2/10\n",
      "50/50 [==============================] - 2s 35ms/step - loss: 0.0672 - mae: 0.0812 - accuracy: 0.9577 - val_loss: 0.0347 - val_mae: 0.0586 - val_accuracy: 0.9688\n",
      "Epoch 3/10\n",
      "50/50 [==============================] - 2s 35ms/step - loss: 0.0315 - mae: 0.0603 - accuracy: 0.9805 - val_loss: 0.0263 - val_mae: 0.0372 - val_accuracy: 0.9819\n",
      "Epoch 4/10\n",
      "50/50 [==============================] - 2s 35ms/step - loss: 0.0273 - mae: 0.0475 - accuracy: 0.9840 - val_loss: 0.0287 - val_mae: 0.0304 - val_accuracy: 0.9778\n",
      "Epoch 5/10\n",
      "50/50 [==============================] - 2s 34ms/step - loss: 0.0283 - mae: 0.0449 - accuracy: 0.9825 - val_loss: 0.0246 - val_mae: 0.0358 - val_accuracy: 0.9819\n",
      "Epoch 6/10\n",
      "50/50 [==============================] - 2s 34ms/step - loss: 0.0251 - mae: 0.0443 - accuracy: 0.9860 - val_loss: 0.0260 - val_mae: 0.0330 - val_accuracy: 0.9793\n",
      "Epoch 7/10\n",
      "50/50 [==============================] - 2s 34ms/step - loss: 0.0252 - mae: 0.0438 - accuracy: 0.9847 - val_loss: 0.0247 - val_mae: 0.0578 - val_accuracy: 0.9902\n",
      "Epoch 8/10\n",
      "50/50 [==============================] - 2s 34ms/step - loss: 0.0253 - mae: 0.0424 - accuracy: 0.9849 - val_loss: 0.0212 - val_mae: 0.0362 - val_accuracy: 0.9898\n",
      "Epoch 9/10\n",
      "50/50 [==============================] - 2s 34ms/step - loss: 0.0237 - mae: 0.0406 - accuracy: 0.9875 - val_loss: 0.0205 - val_mae: 0.0353 - val_accuracy: 0.9900\n",
      "Epoch 10/10\n",
      "50/50 [==============================] - 2s 34ms/step - loss: 0.0236 - mae: 0.0441 - accuracy: 0.9855 - val_loss: 0.0211 - val_mae: 0.0367 - val_accuracy: 0.9917\n"
     ]
    }
   ],
   "source": [
    "history = TCN.fit(x_train, y_train,\n",
    "                  batch_size=128,\n",
    "                  epochs=10,\n",
    "                  verbose=1,\n",
    "                  validation_data=(x_test, y_test),\n",
    "                  callbacks = [TensorBoard(log_dir='../logs/TCN1')])"
   ]
  },
  {
   "cell_type": "code",
   "execution_count": 29,
   "id": "172dbbaa",
   "metadata": {},
   "outputs": [
    {
     "data": {
      "text/plain": [
       "dict_keys(['loss', 'mae', 'accuracy', 'val_loss', 'val_mae', 'val_accuracy'])"
      ]
     },
     "execution_count": 29,
     "metadata": {},
     "output_type": "execute_result"
    }
   ],
   "source": [
    "history.history.keys()"
   ]
  },
  {
   "cell_type": "code",
   "execution_count": 35,
   "id": "dd40c606",
   "metadata": {},
   "outputs": [
    {
     "data": {
      "image/png": "[encoded data removed]",
      "text/plain": [
       "<Figure size 1200x600 with 2 Axes>"
      ]
     },
     "metadata": {},
     "output_type": "display_data"
    }
   ],
   "source": [
    "plt.figure(figsize=(12,6))\n",
    "\n",
    "plt.subplot(1, 2, 1)\n",
    "plt.plot(history.history['accuracy'], color='b', label='accuracy')\n",
    "plt.plot(history.history['val_accuracy'], color='orange', label='val_accuracy')\n",
    "plt.legend()\n",
    "plt.title(\"accuracy\")\n",
    "\n",
    "plt.subplot(1, 2, 2)\n",
    "plt.plot(history.history['loss'], color='b', label='loss')\n",
    "plt.plot(history.history['val_loss'], color='orange', label='val_loss')\n",
    "plt.legend()\n",
    "plt.title(\"loss\")\n",
    "\n",
    "plt.tight_layout()"
   ]
  },
  {
   "cell_type": "code",
   "execution_count": 25,
   "id": "c12c6bee",
   "metadata": {},
   "outputs": [
    {
     "name": "stdout",
     "output_type": "stream",
     "text": [
      "Test loss: 0.0210560392588377\n",
      "Test accuracy: 0.03666716814041138\n"
     ]
    }
   ],
   "source": [
    "score = TCN.evaluate(x_test, y_test, verbose=0)\n",
    "print('Test loss:', score[0])\n",
    "print('Test accuracy:', score[1])"
   ]
  },
  {
   "cell_type": "code",
   "execution_count": 26,
   "id": "93e56f14",
   "metadata": {},
   "outputs": [
    {
     "name": "stdout",
     "output_type": "stream",
     "text": [
      "132/132 [==============================] - 0s 2ms/step\n",
      "[[1. 0.]\n",
      " [1. 0.]\n",
      " [1. 0.]\n",
      " ...\n",
      " [1. 0.]\n",
      " [1. 0.]\n",
      " [1. 0.]]\n",
      "AUC: 98.41%\n"
     ]
    }
   ],
   "source": [
    "from sklearn.metrics import roc_auc_score\n",
    "\n",
    "preds = TCN.predict(x_test)\n",
    "y_pred = np.round(preds)\n",
    "print(y_pred)\n",
    "auc = roc_auc_score( y_pred, y_test)\n",
    "print(\"AUC: {:.2%}\".format (auc))"
   ]
  },
  {
   "cell_type": "code",
   "execution_count": 27,
   "id": "90d43643",
   "metadata": {},
   "outputs": [
    {
     "name": "stdout",
     "output_type": "stream",
     "text": [
      "              precision    recall  f1-score   support\n",
      "\n",
      "           0       0.99      1.00      1.00      4004\n",
      "           1       0.98      0.84      0.90       193\n",
      "\n",
      "   micro avg       0.99      0.99      0.99      4197\n",
      "   macro avg       0.98      0.92      0.95      4197\n",
      "weighted avg       0.99      0.99      0.99      4197\n",
      " samples avg       0.99      0.99      0.99      4197\n",
      "\n"
     ]
    }
   ],
   "source": [
    "print(classification_report(y_test, y_pred))"
   ]
  },
  {
   "cell_type": "code",
   "execution_count": 28,
   "id": "ebee73ec",
   "metadata": {},
   "outputs": [
    {
     "data": {
      "image/png": "[encoded data removed]",
      "text/plain": [
       "<Figure size 700x500 with 2 Axes>"
      ]
     },
     "metadata": {},
     "output_type": "display_data"
    }
   ],
   "source": [
    "viz = Visualization()\n",
    "y_pred2 = np.argmax(y_pred, axis=1)\n",
    "y_test2 = np.argmax(y_test, axis=1)\n",
    "viz.draw_confusion_matrix(y_test2, y_pred2)"
   ]
  },
  {
   "cell_type": "code",
   "execution_count": null,
   "id": "638cc301",
   "metadata": {},
   "outputs": [],
   "source": []
  }
 ],
 "metadata": {
  "kernelspec": {
   "display_name": "Python 3 (ipykernel)",
   "language": "python",
   "name": "python3"
  },
  "language_info": {
   "codemirror_mode": {
    "name": "ipython",
    "version": 3
   },
   "file_extension": ".py",
   "mimetype": "text/x-python",
   "name": "python",
   "nbconvert_exporter": "python",
   "pygments_lexer": "ipython3",
   "version": "3.10.9"
  }
 },
 "nbformat": 4,
 "nbformat_minor": 5
}
