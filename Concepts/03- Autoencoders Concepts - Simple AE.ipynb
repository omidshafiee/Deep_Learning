{
 "cells": [
  {
   "cell_type": "code",
   "execution_count": 1,
   "id": "5bf00f2a",
   "metadata": {},
   "outputs": [],
   "source": [
    "import numpy as np\n",
    "import pandas as pd\n",
    "\n",
    "import tensorflow as tf\n",
    "import keras\n",
    "from keras import optimizers\n",
    "from keras import losses\n",
    "from keras.models import Sequential, Model\n",
    "from keras.layers import Dense, Input, Dropout, Embedding, LSTM\n",
    "from keras.optimizers import RMSprop, Adam, Nadam\n",
    "from keras.preprocessing import sequence\n",
    "from keras.callbacks import TensorBoard\n",
    "\n",
    "\n",
    "import sklearn\n",
    "from sklearn.preprocessing import StandardScaler, MinMaxScaler\n",
    "from sklearn.model_selection import train_test_split\n",
    "from sklearn.metrics import confusion_matrix, roc_auc_score, classification_report\n",
    "\n",
    "import matplotlib\n",
    "import matplotlib.pyplot as plt\n",
    "import matplotlib.gridspec as gridspec\n",
    "\n",
    "import seaborn as sns\n",
    "import sys\n",
    "import os"
   ]
  },
  {
   "cell_type": "code",
   "execution_count": 2,
   "id": "e1b98ab9",
   "metadata": {},
   "outputs": [
    {
     "name": "stdout",
     "output_type": "stream",
     "text": [
      "python: 3.10.9 | packaged by Anaconda, Inc. | (main, Mar  1 2023, 18:18:15) [MSC v.1916 64 bit (AMD64)] \n",
      "\n",
      "numpy: 1.23.5\n",
      "pandas: 1.5.3\n",
      "matplotlib: 3.7.0\n",
      "seaborn: 0.12.2\n",
      "scikit learn: 1.2.1\n",
      "tensorflow: 2.14.0\n",
      "keras: 2.14.0\n"
     ]
    }
   ],
   "source": [
    "# Preview packages version\n",
    "print(f\"python: {sys.version} \\n\")\n",
    "print(f\"numpy: {np.__version__}\")\n",
    "print(f\"pandas: {pd.__version__}\")\n",
    "print(f\"matplotlib: {matplotlib.__version__}\")\n",
    "print(f\"seaborn: {sns.__version__}\")\n",
    "print(f\"scikit learn: {sklearn.__version__}\")\n",
    "print(f\"tensorflow: {tf.__version__}\")\n",
    "print(f\"keras: {keras.__version__}\")\n"
   ]
  },
  {
   "cell_type": "code",
   "execution_count": 3,
   "id": "d87faaa5",
   "metadata": {},
   "outputs": [],
   "source": [
    "class visualization:\n",
    "    labels = [\"Normal\", \"Anomaly\"]\n",
    "    def draw_confusion_matrix(self, y, y_pred):\n",
    "        matrix = confusion_matrix(y_true=y, y_pred=y_pred)\n",
    "        \n",
    "        plt.figure(figsize=(7,5))\n",
    "        colors =['orange', 'green']\n",
    "        sns.heatmap(matrix, xticklabels=self.labels, yticklabels=self.labels,\n",
    "                   cmap=colors, annot=True, fmt='d')\n",
    "        plt.title('Confusion Matrix')\n",
    "        plt.ylabel('Actual')\n",
    "        plt.xlabel('Predicted')\n",
    "        plt.show()\n",
    "        \n",
    "        \n",
    "    def draw_anomaly(self, y, error, threshold):\n",
    "        groupsDF = pd.DataFrame({'error':error, 'true':y}).groupby('true')\n",
    "        \n",
    "        figure, axes = plt.subplots(figsize=(12, 8))\n",
    "        \n",
    "        for name, group in groupsDF:\n",
    "            axes.plot(group.index, group.error, linestyle='',\n",
    "                      marker='x' if name == 1 else 'o',\n",
    "                      color='r' if name == 1 else 'g',\n",
    "                      label='Anomaly' if name == 1 else 'Normal'\n",
    "                      )\n",
    "        axes.hlines(threshold, xmin=axes.get_xlim()[0], xmax=axes.get_xlim()[1],\n",
    "                   colors='b', zorder=100, label='Threshold')\n",
    "        axes.legend()\n",
    "\n",
    "        plt.title(\"Anomalies\")\n",
    "        plt.xlabel(\"Data\")\n",
    "        plt.ylabel(\"Error\")\n",
    "        plt.show()\n",
    "            \n",
    "    def draw_error(self, error, threshold):\n",
    "        figure, axes = plt.subplots(figsize=(12, 8))\n",
    "        plt.plot(error, marker='o', ms=3.5, linestyle='', label='Point')\n",
    "        plt.hlines(threshold, xmin=0, xmax=len(error)-1,\n",
    "                   colors='b', zorder=100, label='Threshold')\n",
    "        plt.legend()\n",
    "        plt.title(\"Reconstruction error\")\n",
    "        plt.xlabel(\"Data\")\n",
    "        plt.ylabel(\"Error\")\n",
    "        plt.show()\n",
    "        "
   ]
  },
  {
   "cell_type": "code",
   "execution_count": 4,
   "id": "8f5db799",
   "metadata": {},
   "outputs": [],
   "source": [
    "df = pd.read_csv('../data/creditcard.csv')"
   ]
  },
  {
   "cell_type": "code",
   "execution_count": 5,
   "id": "a6d1ac44",
   "metadata": {},
   "outputs": [
    {
     "name": "stdout",
     "output_type": "stream",
     "text": [
      "(284807, 31)\n"
     ]
    },
    {
     "data": {
      "text/html": [
       "<div>\n",
       "<style scoped>\n",
       "    .dataframe tbody tr th:only-of-type {\n",
       "        vertical-align: middle;\n",
       "    }\n",
       "\n",
       "    .dataframe tbody tr th {\n",
       "        vertical-align: top;\n",
       "    }\n",
       "\n",
       "    .dataframe thead th {\n",
       "        text-align: right;\n",
       "    }\n",
       "</style>\n",
       "<table border=\"1\" class=\"dataframe\">\n",
       "  <thead>\n",
       "    <tr style=\"text-align: right;\">\n",
       "      <th></th>\n",
       "      <th>Time</th>\n",
       "      <th>V1</th>\n",
       "      <th>V2</th>\n",
       "      <th>V3</th>\n",
       "      <th>V4</th>\n",
       "      <th>V5</th>\n",
       "      <th>V6</th>\n",
       "      <th>V7</th>\n",
       "      <th>V8</th>\n",
       "      <th>V9</th>\n",
       "      <th>...</th>\n",
       "      <th>V21</th>\n",
       "      <th>V22</th>\n",
       "      <th>V23</th>\n",
       "      <th>V24</th>\n",
       "      <th>V25</th>\n",
       "      <th>V26</th>\n",
       "      <th>V27</th>\n",
       "      <th>V28</th>\n",
       "      <th>Amount</th>\n",
       "      <th>Class</th>\n",
       "    </tr>\n",
       "  </thead>\n",
       "  <tbody>\n",
       "    <tr>\n",
       "      <th>0</th>\n",
       "      <td>0.0</td>\n",
       "      <td>-1.359807</td>\n",
       "      <td>-0.072781</td>\n",
       "      <td>2.536347</td>\n",
       "      <td>1.378155</td>\n",
       "      <td>-0.338321</td>\n",
       "      <td>0.462388</td>\n",
       "      <td>0.239599</td>\n",
       "      <td>0.098698</td>\n",
       "      <td>0.363787</td>\n",
       "      <td>...</td>\n",
       "      <td>-0.018307</td>\n",
       "      <td>0.277838</td>\n",
       "      <td>-0.110474</td>\n",
       "      <td>0.066928</td>\n",
       "      <td>0.128539</td>\n",
       "      <td>-0.189115</td>\n",
       "      <td>0.133558</td>\n",
       "      <td>-0.021053</td>\n",
       "      <td>149.62</td>\n",
       "      <td>0</td>\n",
       "    </tr>\n",
       "    <tr>\n",
       "      <th>1</th>\n",
       "      <td>0.0</td>\n",
       "      <td>1.191857</td>\n",
       "      <td>0.266151</td>\n",
       "      <td>0.166480</td>\n",
       "      <td>0.448154</td>\n",
       "      <td>0.060018</td>\n",
       "      <td>-0.082361</td>\n",
       "      <td>-0.078803</td>\n",
       "      <td>0.085102</td>\n",
       "      <td>-0.255425</td>\n",
       "      <td>...</td>\n",
       "      <td>-0.225775</td>\n",
       "      <td>-0.638672</td>\n",
       "      <td>0.101288</td>\n",
       "      <td>-0.339846</td>\n",
       "      <td>0.167170</td>\n",
       "      <td>0.125895</td>\n",
       "      <td>-0.008983</td>\n",
       "      <td>0.014724</td>\n",
       "      <td>2.69</td>\n",
       "      <td>0</td>\n",
       "    </tr>\n",
       "    <tr>\n",
       "      <th>2</th>\n",
       "      <td>1.0</td>\n",
       "      <td>-1.358354</td>\n",
       "      <td>-1.340163</td>\n",
       "      <td>1.773209</td>\n",
       "      <td>0.379780</td>\n",
       "      <td>-0.503198</td>\n",
       "      <td>1.800499</td>\n",
       "      <td>0.791461</td>\n",
       "      <td>0.247676</td>\n",
       "      <td>-1.514654</td>\n",
       "      <td>...</td>\n",
       "      <td>0.247998</td>\n",
       "      <td>0.771679</td>\n",
       "      <td>0.909412</td>\n",
       "      <td>-0.689281</td>\n",
       "      <td>-0.327642</td>\n",
       "      <td>-0.139097</td>\n",
       "      <td>-0.055353</td>\n",
       "      <td>-0.059752</td>\n",
       "      <td>378.66</td>\n",
       "      <td>0</td>\n",
       "    </tr>\n",
       "    <tr>\n",
       "      <th>3</th>\n",
       "      <td>1.0</td>\n",
       "      <td>-0.966272</td>\n",
       "      <td>-0.185226</td>\n",
       "      <td>1.792993</td>\n",
       "      <td>-0.863291</td>\n",
       "      <td>-0.010309</td>\n",
       "      <td>1.247203</td>\n",
       "      <td>0.237609</td>\n",
       "      <td>0.377436</td>\n",
       "      <td>-1.387024</td>\n",
       "      <td>...</td>\n",
       "      <td>-0.108300</td>\n",
       "      <td>0.005274</td>\n",
       "      <td>-0.190321</td>\n",
       "      <td>-1.175575</td>\n",
       "      <td>0.647376</td>\n",
       "      <td>-0.221929</td>\n",
       "      <td>0.062723</td>\n",
       "      <td>0.061458</td>\n",
       "      <td>123.50</td>\n",
       "      <td>0</td>\n",
       "    </tr>\n",
       "    <tr>\n",
       "      <th>4</th>\n",
       "      <td>2.0</td>\n",
       "      <td>-1.158233</td>\n",
       "      <td>0.877737</td>\n",
       "      <td>1.548718</td>\n",
       "      <td>0.403034</td>\n",
       "      <td>-0.407193</td>\n",
       "      <td>0.095921</td>\n",
       "      <td>0.592941</td>\n",
       "      <td>-0.270533</td>\n",
       "      <td>0.817739</td>\n",
       "      <td>...</td>\n",
       "      <td>-0.009431</td>\n",
       "      <td>0.798278</td>\n",
       "      <td>-0.137458</td>\n",
       "      <td>0.141267</td>\n",
       "      <td>-0.206010</td>\n",
       "      <td>0.502292</td>\n",
       "      <td>0.219422</td>\n",
       "      <td>0.215153</td>\n",
       "      <td>69.99</td>\n",
       "      <td>0</td>\n",
       "    </tr>\n",
       "  </tbody>\n",
       "</table>\n",
       "<p>5 rows × 31 columns</p>\n",
       "</div>"
      ],
      "text/plain": [
       "   Time        V1        V2        V3        V4        V5        V6        V7  \\\n",
       "0   0.0 -1.359807 -0.072781  2.536347  1.378155 -0.338321  0.462388  0.239599   \n",
       "1   0.0  1.191857  0.266151  0.166480  0.448154  0.060018 -0.082361 -0.078803   \n",
       "2   1.0 -1.358354 -1.340163  1.773209  0.379780 -0.503198  1.800499  0.791461   \n",
       "3   1.0 -0.966272 -0.185226  1.792993 -0.863291 -0.010309  1.247203  0.237609   \n",
       "4   2.0 -1.158233  0.877737  1.548718  0.403034 -0.407193  0.095921  0.592941   \n",
       "\n",
       "         V8        V9  ...       V21       V22       V23       V24       V25  \\\n",
       "0  0.098698  0.363787  ... -0.018307  0.277838 -0.110474  0.066928  0.128539   \n",
       "1  0.085102 -0.255425  ... -0.225775 -0.638672  0.101288 -0.339846  0.167170   \n",
       "2  0.247676 -1.514654  ...  0.247998  0.771679  0.909412 -0.689281 -0.327642   \n",
       "3  0.377436 -1.387024  ... -0.108300  0.005274 -0.190321 -1.175575  0.647376   \n",
       "4 -0.270533  0.817739  ... -0.009431  0.798278 -0.137458  0.141267 -0.206010   \n",
       "\n",
       "        V26       V27       V28  Amount  Class  \n",
       "0 -0.189115  0.133558 -0.021053  149.62      0  \n",
       "1  0.125895 -0.008983  0.014724    2.69      0  \n",
       "2 -0.139097 -0.055353 -0.059752  378.66      0  \n",
       "3 -0.221929  0.062723  0.061458  123.50      0  \n",
       "4  0.502292  0.219422  0.215153   69.99      0  \n",
       "\n",
       "[5 rows x 31 columns]"
      ]
     },
     "execution_count": 5,
     "metadata": {},
     "output_type": "execute_result"
    }
   ],
   "source": [
    "print(df.shape)\n",
    "df.head()"
   ]
  },
  {
   "cell_type": "code",
   "execution_count": 6,
   "id": "4d4b123e",
   "metadata": {},
   "outputs": [
    {
     "data": {
      "text/plain": [
       "0    284315\n",
       "1       492\n",
       "Name: Class, dtype: int64"
      ]
     },
     "execution_count": 6,
     "metadata": {},
     "output_type": "execute_result"
    }
   ],
   "source": [
    "df['Class'].value_counts()"
   ]
  },
  {
   "cell_type": "code",
   "execution_count": 7,
   "id": "8e2a1753",
   "metadata": {},
   "outputs": [
    {
     "data": {
      "image/png": "[encoded data removed]",
      "text/plain": [
       "<Figure size 640x480 with 1 Axes>"
      ]
     },
     "metadata": {},
     "output_type": "display_data"
    }
   ],
   "source": [
    "ax = sns.countplot(data=df, x='Class' )\n",
    "\n",
    "\n",
    "for i in ax.containers:\n",
    "    ax.bar_label(i,)"
   ]
  },
  {
   "cell_type": "code",
   "execution_count": 8,
   "id": "5bb75ce9",
   "metadata": {
    "scrolled": false
   },
   "outputs": [
    {
     "data": {
      "text/plain": [
       "<Axes: >"
      ]
     },
     "execution_count": 8,
     "metadata": {},
     "output_type": "execute_result"
    },
    {
     "data": {
      "image/png": "[encoded data removed]",
      "text/plain": [
       "<Figure size 640x480 with 1 Axes>"
      ]
     },
     "metadata": {},
     "output_type": "display_data"
    }
   ],
   "source": [
    "df['Amount'].plot(kind='line')"
   ]
  },
  {
   "cell_type": "code",
   "execution_count": 9,
   "id": "2ac09c1e",
   "metadata": {},
   "outputs": [
    {
     "data": {
      "text/plain": [
       "(284807,)"
      ]
     },
     "execution_count": 9,
     "metadata": {},
     "output_type": "execute_result"
    }
   ],
   "source": [
    "df[\"Amount\"].values.shape"
   ]
  },
  {
   "cell_type": "code",
   "execution_count": 10,
   "id": "acfb8f75",
   "metadata": {},
   "outputs": [
    {
     "data": {
      "text/plain": [
       "array([[149.62],\n",
       "       [  2.69],\n",
       "       [378.66],\n",
       "       ...,\n",
       "       [ 67.88],\n",
       "       [ 10.  ],\n",
       "       [217.  ]])"
      ]
     },
     "execution_count": 10,
     "metadata": {},
     "output_type": "execute_result"
    }
   ],
   "source": [
    "df[\"Amount\"].values.reshape(-1, 1)"
   ]
  },
  {
   "cell_type": "code",
   "execution_count": 11,
   "id": "38149079",
   "metadata": {},
   "outputs": [],
   "source": [
    "df['Amount'] = StandardScaler().fit_transform(df[\"Amount\"].values.reshape(-1, 1))"
   ]
  },
  {
   "cell_type": "code",
   "execution_count": 12,
   "id": "5b1aaaf8",
   "metadata": {},
   "outputs": [
    {
     "data": {
      "text/plain": [
       "count    2.848070e+05\n",
       "mean     2.913952e-17\n",
       "std      1.000002e+00\n",
       "min     -3.532294e-01\n",
       "25%     -3.308401e-01\n",
       "50%     -2.652715e-01\n",
       "75%     -4.471707e-02\n",
       "max      1.023622e+02\n",
       "Name: Amount, dtype: float64"
      ]
     },
     "execution_count": 12,
     "metadata": {},
     "output_type": "execute_result"
    }
   ],
   "source": [
    "df['Amount'].describe()"
   ]
  },
  {
   "cell_type": "code",
   "execution_count": 13,
   "id": "9ac05bfc",
   "metadata": {},
   "outputs": [],
   "source": [
    "df0 = df[df['Class'] == 0].sample(20000)\n",
    "df1 = df[df['Class'] == 1].sample(400)\n",
    "df = pd.concat([df0, df1])"
   ]
  },
  {
   "cell_type": "code",
   "execution_count": 14,
   "id": "80bfaac6",
   "metadata": {},
   "outputs": [
    {
     "data": {
      "text/plain": [
       "0    20000\n",
       "1      400\n",
       "Name: Class, dtype: int64"
      ]
     },
     "execution_count": 14,
     "metadata": {},
     "output_type": "execute_result"
    }
   ],
   "source": [
    "df['Class'].value_counts()"
   ]
  },
  {
   "cell_type": "code",
   "execution_count": 15,
   "id": "44f2e64b",
   "metadata": {
    "scrolled": false
   },
   "outputs": [
    {
     "data": {
      "image/png": "[encoded data removed]",
      "text/plain": [
       "<Figure size 640x480 with 1 Axes>"
      ]
     },
     "metadata": {},
     "output_type": "display_data"
    }
   ],
   "source": [
    "ax = sns.countplot(data=df, x='Class' )\n",
    "\n",
    "for i in ax.containers:\n",
    "    ax.bar_label(i,)"
   ]
  },
  {
   "cell_type": "code",
   "execution_count": 16,
   "id": "53b9be5d",
   "metadata": {},
   "outputs": [
    {
     "name": "stdout",
     "output_type": "stream",
     "text": [
      "(16320, 29) train samples\n",
      "(4080, 29) test samples\n"
     ]
    }
   ],
   "source": [
    "x_train, x_test, y_train, y_test = \\\n",
    "    train_test_split(df.drop(labels=['Time', 'Class'], axis=1), \n",
    "                     df['Class'], test_size=0.2, random_state=101)\n",
    "\n",
    "print(x_train.shape, 'train samples')\n",
    "print(x_test.shape, 'test samples')"
   ]
  },
  {
   "cell_type": "markdown",
   "id": "520fcc0b",
   "metadata": {},
   "source": [
    "## Create a simple auto encoder model"
   ]
  },
  {
   "cell_type": "markdown",
   "id": "e7c1f511",
   "metadata": {},
   "source": [
    "encoding_dim = 12\n",
    "input_dim = x_train.shape[1]\n",
    "\n",
    "input_array = Input(shape=(input_dim,))\n",
    "encoded= Dense(encoding_dim, activation='relu')(input_array)\n",
    "\n",
    "decoded = Dense(input_dim, activation='softmax')(encoded)\n",
    "\n",
    "autoencoder = Model(input_array, decoded)\n",
    "autoencoder.summary()"
   ]
  },
  {
   "cell_type": "markdown",
   "id": "fbb736a3",
   "metadata": {},
   "source": [
    "## Create a sparse auto encoder model"
   ]
  },
  {
   "cell_type": "markdown",
   "id": "ed015fae",
   "metadata": {},
   "source": [
    "from keras import regularizers\n",
    "\n",
    "encoding_dim = 12\n",
    "input_dim = x_train.shape[1]\n",
    "\n",
    "input_array = Input(shape=(input_dim,))\n",
    "encoded= Dense(encoding_dim, activation='relu', \n",
    "               activity_regularizer=regularizers.l1(10e-5))(input_array)\n",
    "\n",
    "decoded = Dense(input_dim, activation='softmax')(encoded)\n",
    "\n",
    "autoencoder = Model(input_array, decoded)\n",
    "autoencoder.summary()"
   ]
  },
  {
   "cell_type": "markdown",
   "id": "a3e4e1ee",
   "metadata": {},
   "source": [
    "## Create a Deep auto encoder model"
   ]
  },
  {
   "cell_type": "code",
   "execution_count": 17,
   "id": "b20ccd53",
   "metadata": {},
   "outputs": [
    {
     "name": "stdout",
     "output_type": "stream",
     "text": [
      "Model: \"model\"\n",
      "_________________________________________________________________\n",
      " Layer (type)                Output Shape              Param #   \n",
      "=================================================================\n",
      " input_1 (InputLayer)        [(None, 29)]              0         \n",
      "                                                                 \n",
      " dense (Dense)               (None, 16)                480       \n",
      "                                                                 \n",
      " dense_1 (Dense)             (None, 8)                 136       \n",
      "                                                                 \n",
      " dense_2 (Dense)             (None, 4)                 36        \n",
      "                                                                 \n",
      " dense_3 (Dense)             (None, 8)                 40        \n",
      "                                                                 \n",
      " dense_4 (Dense)             (None, 16)                144       \n",
      "                                                                 \n",
      " dense_5 (Dense)             (None, 29)                493       \n",
      "                                                                 \n",
      "=================================================================\n",
      "Total params: 1329 (5.19 KB)\n",
      "Trainable params: 1329 (5.19 KB)\n",
      "Non-trainable params: 0 (0.00 Byte)\n",
      "_________________________________________________________________\n"
     ]
    }
   ],
   "source": [
    "from keras import regularizers\n",
    "\n",
    "encoding_dim = 16\n",
    "input_dim = x_train.shape[1]\n",
    "\n",
    "input_array = Input(shape=(input_dim,))\n",
    "encoded = Dense(encoding_dim, activation='relu')(input_array)\n",
    "encoded = Dense(8, activation='relu')(encoded)\n",
    "encoded = Dense(4, activation='relu')(encoded)\n",
    "\n",
    "\n",
    "decoded = Dense(8, activation='relu')(encoded)\n",
    "decoded = Dense(encoding_dim, activation='relu')(decoded)\n",
    "decoded = Dense(input_dim, activation='softmax')(decoded)\n",
    "\n",
    "autoencoder = Model(input_array, decoded)\n",
    "autoencoder.summary()"
   ]
  },
  {
   "cell_type": "markdown",
   "id": "70d2e735",
   "metadata": {},
   "source": [
    "-----------------------"
   ]
  },
  {
   "cell_type": "code",
   "execution_count": 18,
   "id": "1511f11a",
   "metadata": {},
   "outputs": [],
   "source": [
    "autoencoder.compile(optimizer=RMSprop(),\n",
    "                   loss='mean_squared_error',\n",
    "                   metrics=['mae', 'accuracy'])"
   ]
  },
  {
   "cell_type": "markdown",
   "id": "61bed57a",
   "metadata": {},
   "source": [
    "### Load tensorboard via console\n",
    "python -m tensorboard.main --logdir=d:\\ds\\dl\\log\\autoencoder1 --port=6007"
   ]
  },
  {
   "cell_type": "code",
   "execution_count": 19,
   "id": "7143d607",
   "metadata": {},
   "outputs": [
    {
     "name": "stdout",
     "output_type": "stream",
     "text": [
      "D:\\DS\\DL\\Concepts\\logs\\auto-deep-02\n"
     ]
    }
   ],
   "source": [
    "# log_dir='d:/ds/dl/logs/autoencoder1/'\n",
    "log_dir = os.path.join('D:', os.sep, 'DS', 'DL', 'Concepts', 'logs', 'auto-deep-02')\n",
    "print(log_dir)"
   ]
  },
  {
   "cell_type": "code",
   "execution_count": 20,
   "id": "cb4e37bb",
   "metadata": {},
   "outputs": [],
   "source": [
    "# %load_ext tensorboard\n",
    "# os.environ['TENSORBOARD_BINARY'] = r'c:\\users\\104974068\\appdata\\roaming\\python\\python310\\site-packages'"
   ]
  },
  {
   "cell_type": "code",
   "execution_count": 21,
   "id": "e1ce2451",
   "metadata": {},
   "outputs": [
    {
     "name": "stdout",
     "output_type": "stream",
     "text": [
      "Object `%tensorboard --logdir=log_dir` not found.\n"
     ]
    }
   ],
   "source": [
    "# log_dir='../log/autoencoder1/'\n",
    "?%tensorboard --logdir=log_dir\n"
   ]
  },
  {
   "cell_type": "code",
   "execution_count": 22,
   "id": "9d9c6be1",
   "metadata": {},
   "outputs": [],
   "source": [
    "# from tensorboard import notebook\n",
    "# notebook.list()"
   ]
  },
  {
   "cell_type": "code",
   "execution_count": 23,
   "id": "6471f3fd",
   "metadata": {},
   "outputs": [],
   "source": [
    "tensorboard_callback = tf.keras.callbacks.TensorBoard(log_dir, histogram_freq=1)\n",
    "\n",
    "callbacks = [TensorBoard(log_dir=log_dir,\n",
    "                         histogram_freq=1,\n",
    "                         write_graph=True,\n",
    "                         write_images=True,\n",
    "                         update_freq='epoch',\n",
    "                         profile_batch=2,\n",
    "                         embeddings_freq=1)]"
   ]
  },
  {
   "cell_type": "code",
   "execution_count": 24,
   "id": "5f464e8e",
   "metadata": {
    "scrolled": true
   },
   "outputs": [
    {
     "name": "stdout",
     "output_type": "stream",
     "text": [
      "Epoch 1/100\n",
      "255/255 [==============================] - 1s 3ms/step - loss: 0.0202 - mae: 0.0535 - accuracy: 9.8039e-04 - val_loss: 0.0165 - val_mae: 0.0498 - val_accuracy: 0.0000e+00\n",
      "Epoch 2/100\n",
      "255/255 [==============================] - 0s 2ms/step - loss: 0.0202 - mae: 0.0535 - accuracy: 5.5147e-04 - val_loss: 0.0165 - val_mae: 0.0498 - val_accuracy: 0.0000e+00\n",
      "Epoch 3/100\n",
      "255/255 [==============================] - 0s 2ms/step - loss: 0.0202 - mae: 0.0535 - accuracy: 4.9020e-04 - val_loss: 0.0165 - val_mae: 0.0498 - val_accuracy: 2.4510e-04\n",
      "Epoch 4/100\n",
      "255/255 [==============================] - 1s 2ms/step - loss: 0.0202 - mae: 0.0535 - accuracy: 4.9020e-04 - val_loss: 0.0165 - val_mae: 0.0498 - val_accuracy: 2.4510e-04\n",
      "Epoch 5/100\n",
      "255/255 [==============================] - 1s 2ms/step - loss: 0.0202 - mae: 0.0535 - accuracy: 5.5147e-04 - val_loss: 0.0165 - val_mae: 0.0498 - val_accuracy: 2.4510e-04\n",
      "Epoch 6/100\n",
      "255/255 [==============================] - 1s 2ms/step - loss: 0.0202 - mae: 0.0535 - accuracy: 6.1275e-04 - val_loss: 0.0165 - val_mae: 0.0498 - val_accuracy: 2.4510e-04\n",
      "Epoch 7/100\n",
      "255/255 [==============================] - 1s 2ms/step - loss: 0.0202 - mae: 0.0535 - accuracy: 5.5147e-04 - val_loss: 0.0165 - val_mae: 0.0498 - val_accuracy: 2.4510e-04\n",
      "Epoch 8/100\n",
      "255/255 [==============================] - 1s 2ms/step - loss: 0.0202 - mae: 0.0535 - accuracy: 5.5147e-04 - val_loss: 0.0165 - val_mae: 0.0498 - val_accuracy: 2.4510e-04\n",
      "Epoch 9/100\n",
      "255/255 [==============================] - 1s 2ms/step - loss: 0.0202 - mae: 0.0535 - accuracy: 5.5147e-04 - val_loss: 0.0165 - val_mae: 0.0498 - val_accuracy: 2.4510e-04\n",
      "Epoch 10/100\n",
      "255/255 [==============================] - 1s 2ms/step - loss: 0.0202 - mae: 0.0535 - accuracy: 5.5147e-04 - val_loss: 0.0165 - val_mae: 0.0498 - val_accuracy: 2.4510e-04\n",
      "Epoch 11/100\n",
      "255/255 [==============================] - 1s 2ms/step - loss: 0.0202 - mae: 0.0535 - accuracy: 5.5147e-04 - val_loss: 0.0165 - val_mae: 0.0498 - val_accuracy: 2.4510e-04\n",
      "Epoch 12/100\n",
      "255/255 [==============================] - 1s 2ms/step - loss: 0.0202 - mae: 0.0535 - accuracy: 5.5147e-04 - val_loss: 0.0165 - val_mae: 0.0498 - val_accuracy: 2.4510e-04\n",
      "Epoch 13/100\n",
      "255/255 [==============================] - 1s 2ms/step - loss: 0.0202 - mae: 0.0535 - accuracy: 5.5147e-04 - val_loss: 0.0165 - val_mae: 0.0498 - val_accuracy: 2.4510e-04\n",
      "Epoch 14/100\n",
      "255/255 [==============================] - 1s 2ms/step - loss: 0.0202 - mae: 0.0535 - accuracy: 6.1275e-04 - val_loss: 0.0165 - val_mae: 0.0498 - val_accuracy: 2.4510e-04\n",
      "Epoch 15/100\n",
      "255/255 [==============================] - 1s 2ms/step - loss: 0.0202 - mae: 0.0535 - accuracy: 5.5147e-04 - val_loss: 0.0165 - val_mae: 0.0498 - val_accuracy: 2.4510e-04\n",
      "Epoch 16/100\n",
      "255/255 [==============================] - 1s 2ms/step - loss: 0.0202 - mae: 0.0535 - accuracy: 5.5147e-04 - val_loss: 0.0165 - val_mae: 0.0498 - val_accuracy: 2.4510e-04\n",
      "Epoch 17/100\n",
      "255/255 [==============================] - 1s 3ms/step - loss: 0.0202 - mae: 0.0535 - accuracy: 6.1275e-04 - val_loss: 0.0165 - val_mae: 0.0498 - val_accuracy: 2.4510e-04\n",
      "Epoch 18/100\n",
      "255/255 [==============================] - 1s 2ms/step - loss: 0.0202 - mae: 0.0535 - accuracy: 5.5147e-04 - val_loss: 0.0165 - val_mae: 0.0498 - val_accuracy: 2.4510e-04\n",
      "Epoch 19/100\n",
      "255/255 [==============================] - 1s 2ms/step - loss: 0.0202 - mae: 0.0535 - accuracy: 5.5147e-04 - val_loss: 0.0165 - val_mae: 0.0498 - val_accuracy: 2.4510e-04\n",
      "Epoch 20/100\n",
      "255/255 [==============================] - 1s 2ms/step - loss: 0.0202 - mae: 0.0535 - accuracy: 5.5147e-04 - val_loss: 0.0165 - val_mae: 0.0498 - val_accuracy: 2.4510e-04\n",
      "Epoch 21/100\n",
      "255/255 [==============================] - 1s 2ms/step - loss: 0.0202 - mae: 0.0535 - accuracy: 5.5147e-04 - val_loss: 0.0165 - val_mae: 0.0498 - val_accuracy: 2.4510e-04\n",
      "Epoch 22/100\n",
      "255/255 [==============================] - 1s 2ms/step - loss: 0.0202 - mae: 0.0535 - accuracy: 6.1275e-04 - val_loss: 0.0165 - val_mae: 0.0498 - val_accuracy: 2.4510e-04\n",
      "Epoch 23/100\n",
      "255/255 [==============================] - 1s 2ms/step - loss: 0.0202 - mae: 0.0535 - accuracy: 6.1275e-04 - val_loss: 0.0165 - val_mae: 0.0498 - val_accuracy: 2.4510e-04\n",
      "Epoch 24/100\n",
      "255/255 [==============================] - 1s 2ms/step - loss: 0.0202 - mae: 0.0535 - accuracy: 6.1275e-04 - val_loss: 0.0165 - val_mae: 0.0498 - val_accuracy: 2.4510e-04\n",
      "Epoch 25/100\n",
      "255/255 [==============================] - 1s 3ms/step - loss: 0.0202 - mae: 0.0535 - accuracy: 6.1275e-04 - val_loss: 0.0165 - val_mae: 0.0498 - val_accuracy: 2.4510e-04\n",
      "Epoch 26/100\n",
      "255/255 [==============================] - 1s 3ms/step - loss: 0.0202 - mae: 0.0535 - accuracy: 6.1275e-04 - val_loss: 0.0165 - val_mae: 0.0498 - val_accuracy: 2.4510e-04\n",
      "Epoch 27/100\n",
      "255/255 [==============================] - 1s 2ms/step - loss: 0.0202 - mae: 0.0535 - accuracy: 5.5147e-04 - val_loss: 0.0165 - val_mae: 0.0498 - val_accuracy: 2.4510e-04\n",
      "Epoch 28/100\n",
      "255/255 [==============================] - 1s 2ms/step - loss: 0.0202 - mae: 0.0535 - accuracy: 5.5147e-04 - val_loss: 0.0165 - val_mae: 0.0498 - val_accuracy: 2.4510e-04\n",
      "Epoch 29/100\n",
      "255/255 [==============================] - 1s 2ms/step - loss: 0.0202 - mae: 0.0535 - accuracy: 5.5147e-04 - val_loss: 0.0165 - val_mae: 0.0498 - val_accuracy: 2.4510e-04\n",
      "Epoch 30/100\n",
      "255/255 [==============================] - 1s 3ms/step - loss: 0.0202 - mae: 0.0535 - accuracy: 5.5147e-04 - val_loss: 0.0165 - val_mae: 0.0498 - val_accuracy: 2.4510e-04\n",
      "Epoch 31/100\n",
      "255/255 [==============================] - 1s 2ms/step - loss: 0.0202 - mae: 0.0535 - accuracy: 5.5147e-04 - val_loss: 0.0165 - val_mae: 0.0498 - val_accuracy: 2.4510e-04\n",
      "Epoch 32/100\n",
      "255/255 [==============================] - 1s 2ms/step - loss: 0.0202 - mae: 0.0535 - accuracy: 5.5147e-04 - val_loss: 0.0165 - val_mae: 0.0498 - val_accuracy: 2.4510e-04\n",
      "Epoch 33/100\n",
      "255/255 [==============================] - 1s 2ms/step - loss: 0.0202 - mae: 0.0535 - accuracy: 6.1275e-04 - val_loss: 0.0165 - val_mae: 0.0498 - val_accuracy: 2.4510e-04\n",
      "Epoch 34/100\n",
      "255/255 [==============================] - 1s 3ms/step - loss: 0.0202 - mae: 0.0535 - accuracy: 6.1275e-04 - val_loss: 0.0165 - val_mae: 0.0498 - val_accuracy: 2.4510e-04\n",
      "Epoch 35/100\n",
      "255/255 [==============================] - 1s 3ms/step - loss: 0.0202 - mae: 0.0535 - accuracy: 6.1275e-04 - val_loss: 0.0165 - val_mae: 0.0498 - val_accuracy: 2.4510e-04\n",
      "Epoch 36/100\n",
      "255/255 [==============================] - 1s 2ms/step - loss: 0.0202 - mae: 0.0535 - accuracy: 6.1275e-04 - val_loss: 0.0165 - val_mae: 0.0498 - val_accuracy: 2.4510e-04\n",
      "Epoch 37/100\n",
      "255/255 [==============================] - 1s 3ms/step - loss: 0.0202 - mae: 0.0535 - accuracy: 5.5147e-04 - val_loss: 0.0165 - val_mae: 0.0498 - val_accuracy: 2.4510e-04\n",
      "Epoch 38/100\n",
      "255/255 [==============================] - 1s 2ms/step - loss: 0.0202 - mae: 0.0535 - accuracy: 5.5147e-04 - val_loss: 0.0165 - val_mae: 0.0498 - val_accuracy: 2.4510e-04\n",
      "Epoch 39/100\n",
      "255/255 [==============================] - 1s 2ms/step - loss: 0.0202 - mae: 0.0535 - accuracy: 5.5147e-04 - val_loss: 0.0165 - val_mae: 0.0498 - val_accuracy: 2.4510e-04\n",
      "Epoch 40/100\n",
      "255/255 [==============================] - 1s 2ms/step - loss: 0.0202 - mae: 0.0535 - accuracy: 5.5147e-04 - val_loss: 0.0165 - val_mae: 0.0498 - val_accuracy: 2.4510e-04\n",
      "Epoch 41/100\n",
      "255/255 [==============================] - 1s 3ms/step - loss: 0.0202 - mae: 0.0535 - accuracy: 5.5147e-04 - val_loss: 0.0165 - val_mae: 0.0498 - val_accuracy: 2.4510e-04\n",
      "Epoch 42/100\n",
      "255/255 [==============================] - 1s 2ms/step - loss: 0.0202 - mae: 0.0535 - accuracy: 5.5147e-04 - val_loss: 0.0165 - val_mae: 0.0498 - val_accuracy: 2.4510e-04\n",
      "Epoch 43/100\n",
      "255/255 [==============================] - 1s 2ms/step - loss: 0.0202 - mae: 0.0535 - accuracy: 5.5147e-04 - val_loss: 0.0165 - val_mae: 0.0498 - val_accuracy: 2.4510e-04\n",
      "Epoch 44/100\n",
      "255/255 [==============================] - 1s 2ms/step - loss: 0.0202 - mae: 0.0535 - accuracy: 5.5147e-04 - val_loss: 0.0165 - val_mae: 0.0498 - val_accuracy: 2.4510e-04\n",
      "Epoch 45/100\n"
     ]
    },
    {
     "name": "stdout",
     "output_type": "stream",
     "text": [
      "255/255 [==============================] - 1s 2ms/step - loss: 0.0202 - mae: 0.0535 - accuracy: 5.5147e-04 - val_loss: 0.0165 - val_mae: 0.0498 - val_accuracy: 2.4510e-04\n",
      "Epoch 46/100\n",
      "255/255 [==============================] - 1s 2ms/step - loss: 0.0202 - mae: 0.0535 - accuracy: 5.5147e-04 - val_loss: 0.0165 - val_mae: 0.0498 - val_accuracy: 2.4510e-04\n",
      "Epoch 47/100\n",
      "255/255 [==============================] - 1s 2ms/step - loss: 0.0202 - mae: 0.0535 - accuracy: 5.5147e-04 - val_loss: 0.0165 - val_mae: 0.0498 - val_accuracy: 2.4510e-04\n",
      "Epoch 48/100\n",
      "255/255 [==============================] - 1s 2ms/step - loss: 0.0202 - mae: 0.0535 - accuracy: 4.9020e-04 - val_loss: 0.0165 - val_mae: 0.0498 - val_accuracy: 2.4510e-04\n",
      "Epoch 49/100\n",
      "255/255 [==============================] - 1s 2ms/step - loss: 0.0202 - mae: 0.0535 - accuracy: 4.9020e-04 - val_loss: 0.0165 - val_mae: 0.0498 - val_accuracy: 2.4510e-04\n",
      "Epoch 50/100\n",
      "255/255 [==============================] - 1s 2ms/step - loss: 0.0202 - mae: 0.0535 - accuracy: 4.9020e-04 - val_loss: 0.0165 - val_mae: 0.0498 - val_accuracy: 2.4510e-04\n",
      "Epoch 51/100\n",
      "255/255 [==============================] - 1s 2ms/step - loss: 0.0202 - mae: 0.0535 - accuracy: 4.9020e-04 - val_loss: 0.0165 - val_mae: 0.0498 - val_accuracy: 2.4510e-04\n",
      "Epoch 52/100\n",
      "255/255 [==============================] - 1s 2ms/step - loss: 0.0202 - mae: 0.0535 - accuracy: 4.9020e-04 - val_loss: 0.0165 - val_mae: 0.0498 - val_accuracy: 2.4510e-04\n",
      "Epoch 53/100\n",
      "255/255 [==============================] - 1s 2ms/step - loss: 0.0202 - mae: 0.0535 - accuracy: 4.9020e-04 - val_loss: 0.0165 - val_mae: 0.0498 - val_accuracy: 4.9020e-04\n",
      "Epoch 54/100\n",
      "255/255 [==============================] - 1s 2ms/step - loss: 0.0202 - mae: 0.0535 - accuracy: 4.2892e-04 - val_loss: 0.0165 - val_mae: 0.0498 - val_accuracy: 2.4510e-04\n",
      "Epoch 55/100\n",
      "255/255 [==============================] - 1s 2ms/step - loss: 0.0202 - mae: 0.0535 - accuracy: 4.2892e-04 - val_loss: 0.0165 - val_mae: 0.0498 - val_accuracy: 2.4510e-04\n",
      "Epoch 56/100\n",
      "255/255 [==============================] - 1s 2ms/step - loss: 0.0202 - mae: 0.0535 - accuracy: 4.2892e-04 - val_loss: 0.0165 - val_mae: 0.0498 - val_accuracy: 2.4510e-04\n",
      "Epoch 57/100\n",
      "255/255 [==============================] - 1s 2ms/step - loss: 0.0202 - mae: 0.0535 - accuracy: 4.2892e-04 - val_loss: 0.0165 - val_mae: 0.0498 - val_accuracy: 2.4510e-04\n",
      "Epoch 58/100\n",
      "255/255 [==============================] - 0s 2ms/step - loss: 0.0202 - mae: 0.0535 - accuracy: 4.2892e-04 - val_loss: 0.0165 - val_mae: 0.0498 - val_accuracy: 2.4510e-04\n",
      "Epoch 59/100\n",
      "255/255 [==============================] - 1s 2ms/step - loss: 0.0202 - mae: 0.0535 - accuracy: 4.2892e-04 - val_loss: 0.0165 - val_mae: 0.0498 - val_accuracy: 2.4510e-04\n",
      "Epoch 60/100\n",
      "255/255 [==============================] - 1s 2ms/step - loss: 0.0202 - mae: 0.0535 - accuracy: 4.2892e-04 - val_loss: 0.0165 - val_mae: 0.0498 - val_accuracy: 2.4510e-04\n",
      "Epoch 61/100\n",
      "255/255 [==============================] - 1s 2ms/step - loss: 0.0202 - mae: 0.0535 - accuracy: 4.9020e-04 - val_loss: 0.0165 - val_mae: 0.0498 - val_accuracy: 2.4510e-04\n",
      "Epoch 62/100\n",
      "255/255 [==============================] - 1s 3ms/step - loss: 0.0202 - mae: 0.0535 - accuracy: 4.9020e-04 - val_loss: 0.0165 - val_mae: 0.0498 - val_accuracy: 2.4510e-04\n",
      "Epoch 63/100\n",
      "255/255 [==============================] - 1s 2ms/step - loss: 0.0202 - mae: 0.0535 - accuracy: 4.9020e-04 - val_loss: 0.0165 - val_mae: 0.0498 - val_accuracy: 2.4510e-04\n",
      "Epoch 64/100\n",
      "255/255 [==============================] - 1s 2ms/step - loss: 0.0202 - mae: 0.0535 - accuracy: 4.9020e-04 - val_loss: 0.0165 - val_mae: 0.0498 - val_accuracy: 2.4510e-04\n",
      "Epoch 65/100\n",
      "255/255 [==============================] - 1s 2ms/step - loss: 0.0202 - mae: 0.0535 - accuracy: 4.9020e-04 - val_loss: 0.0165 - val_mae: 0.0498 - val_accuracy: 2.4510e-04\n",
      "Epoch 66/100\n",
      "255/255 [==============================] - 1s 2ms/step - loss: 0.0202 - mae: 0.0535 - accuracy: 4.9020e-04 - val_loss: 0.0165 - val_mae: 0.0498 - val_accuracy: 2.4510e-04\n",
      "Epoch 67/100\n",
      "255/255 [==============================] - 1s 2ms/step - loss: 0.0202 - mae: 0.0535 - accuracy: 4.9020e-04 - val_loss: 0.0165 - val_mae: 0.0498 - val_accuracy: 2.4510e-04\n",
      "Epoch 68/100\n",
      "255/255 [==============================] - 1s 2ms/step - loss: 0.0202 - mae: 0.0535 - accuracy: 4.9020e-04 - val_loss: 0.0165 - val_mae: 0.0498 - val_accuracy: 2.4510e-04\n",
      "Epoch 69/100\n",
      "255/255 [==============================] - 1s 2ms/step - loss: 0.0202 - mae: 0.0535 - accuracy: 4.9020e-04 - val_loss: 0.0165 - val_mae: 0.0498 - val_accuracy: 2.4510e-04\n",
      "Epoch 70/100\n",
      "255/255 [==============================] - 1s 2ms/step - loss: 0.0202 - mae: 0.0535 - accuracy: 4.9020e-04 - val_loss: 0.0165 - val_mae: 0.0498 - val_accuracy: 2.4510e-04\n",
      "Epoch 71/100\n",
      "255/255 [==============================] - 1s 2ms/step - loss: 0.0202 - mae: 0.0535 - accuracy: 4.2892e-04 - val_loss: 0.0165 - val_mae: 0.0498 - val_accuracy: 2.4510e-04\n",
      "Epoch 72/100\n",
      "255/255 [==============================] - 1s 2ms/step - loss: 0.0202 - mae: 0.0535 - accuracy: 4.2892e-04 - val_loss: 0.0165 - val_mae: 0.0498 - val_accuracy: 2.4510e-04\n",
      "Epoch 73/100\n",
      "255/255 [==============================] - 1s 2ms/step - loss: 0.0202 - mae: 0.0535 - accuracy: 4.2892e-04 - val_loss: 0.0165 - val_mae: 0.0498 - val_accuracy: 2.4510e-04\n",
      "Epoch 74/100\n",
      "255/255 [==============================] - 1s 2ms/step - loss: 0.0202 - mae: 0.0535 - accuracy: 4.2892e-04 - val_loss: 0.0165 - val_mae: 0.0498 - val_accuracy: 2.4510e-04\n",
      "Epoch 75/100\n",
      "255/255 [==============================] - 1s 2ms/step - loss: 0.0202 - mae: 0.0535 - accuracy: 4.2892e-04 - val_loss: 0.0165 - val_mae: 0.0498 - val_accuracy: 2.4510e-04\n",
      "Epoch 76/100\n",
      "255/255 [==============================] - 1s 2ms/step - loss: 0.0202 - mae: 0.0535 - accuracy: 4.2892e-04 - val_loss: 0.0165 - val_mae: 0.0498 - val_accuracy: 2.4510e-04\n",
      "Epoch 77/100\n",
      "255/255 [==============================] - 1s 2ms/step - loss: 0.0202 - mae: 0.0535 - accuracy: 4.9020e-04 - val_loss: 0.0165 - val_mae: 0.0498 - val_accuracy: 2.4510e-04\n",
      "Epoch 78/100\n",
      "255/255 [==============================] - 1s 2ms/step - loss: 0.0202 - mae: 0.0535 - accuracy: 4.9020e-04 - val_loss: 0.0165 - val_mae: 0.0498 - val_accuracy: 2.4510e-04\n",
      "Epoch 79/100\n",
      "255/255 [==============================] - 1s 2ms/step - loss: 0.0202 - mae: 0.0535 - accuracy: 4.9020e-04 - val_loss: 0.0165 - val_mae: 0.0498 - val_accuracy: 2.4510e-04\n",
      "Epoch 80/100\n",
      "255/255 [==============================] - 1s 2ms/step - loss: 0.0202 - mae: 0.0535 - accuracy: 4.9020e-04 - val_loss: 0.0165 - val_mae: 0.0498 - val_accuracy: 2.4510e-04\n",
      "Epoch 81/100\n",
      "255/255 [==============================] - 1s 2ms/step - loss: 0.0202 - mae: 0.0535 - accuracy: 4.9020e-04 - val_loss: 0.0165 - val_mae: 0.0498 - val_accuracy: 2.4510e-04\n",
      "Epoch 82/100\n",
      "255/255 [==============================] - 1s 2ms/step - loss: 0.0202 - mae: 0.0535 - accuracy: 4.9020e-04 - val_loss: 0.0165 - val_mae: 0.0498 - val_accuracy: 2.4510e-04\n",
      "Epoch 83/100\n",
      "255/255 [==============================] - 1s 2ms/step - loss: 0.0202 - mae: 0.0535 - accuracy: 4.9020e-04 - val_loss: 0.0165 - val_mae: 0.0498 - val_accuracy: 2.4510e-04\n",
      "Epoch 84/100\n",
      "255/255 [==============================] - 1s 2ms/step - loss: 0.0202 - mae: 0.0535 - accuracy: 4.9020e-04 - val_loss: 0.0165 - val_mae: 0.0498 - val_accuracy: 2.4510e-04\n",
      "Epoch 85/100\n",
      "255/255 [==============================] - 1s 2ms/step - loss: 0.0202 - mae: 0.0535 - accuracy: 4.9020e-04 - val_loss: 0.0165 - val_mae: 0.0498 - val_accuracy: 2.4510e-04\n",
      "Epoch 86/100\n",
      "255/255 [==============================] - 1s 2ms/step - loss: 0.0202 - mae: 0.0535 - accuracy: 4.9020e-04 - val_loss: 0.0165 - val_mae: 0.0498 - val_accuracy: 2.4510e-04\n",
      "Epoch 87/100\n",
      "255/255 [==============================] - 1s 2ms/step - loss: 0.0202 - mae: 0.0535 - accuracy: 4.9020e-04 - val_loss: 0.0165 - val_mae: 0.0498 - val_accuracy: 2.4510e-04\n",
      "Epoch 88/100\n",
      "255/255 [==============================] - 1s 2ms/step - loss: 0.0202 - mae: 0.0535 - accuracy: 5.5147e-04 - val_loss: 0.0165 - val_mae: 0.0498 - val_accuracy: 2.4510e-04\n",
      "Epoch 89/100\n"
     ]
    },
    {
     "name": "stdout",
     "output_type": "stream",
     "text": [
      "255/255 [==============================] - 1s 3ms/step - loss: 0.0202 - mae: 0.0535 - accuracy: 5.5147e-04 - val_loss: 0.0165 - val_mae: 0.0498 - val_accuracy: 2.4510e-04\n",
      "Epoch 90/100\n",
      "255/255 [==============================] - 1s 2ms/step - loss: 0.0202 - mae: 0.0535 - accuracy: 5.5147e-04 - val_loss: 0.0165 - val_mae: 0.0498 - val_accuracy: 2.4510e-04\n",
      "Epoch 91/100\n",
      "255/255 [==============================] - 1s 2ms/step - loss: 0.0202 - mae: 0.0535 - accuracy: 5.5147e-04 - val_loss: 0.0165 - val_mae: 0.0498 - val_accuracy: 2.4510e-04\n",
      "Epoch 92/100\n",
      "255/255 [==============================] - 1s 2ms/step - loss: 0.0202 - mae: 0.0535 - accuracy: 6.1275e-04 - val_loss: 0.0165 - val_mae: 0.0498 - val_accuracy: 2.4510e-04\n",
      "Epoch 93/100\n",
      "255/255 [==============================] - 1s 2ms/step - loss: 0.0202 - mae: 0.0535 - accuracy: 6.7402e-04 - val_loss: 0.0165 - val_mae: 0.0498 - val_accuracy: 2.4510e-04\n",
      "Epoch 94/100\n",
      "255/255 [==============================] - 1s 2ms/step - loss: 0.0202 - mae: 0.0535 - accuracy: 6.7402e-04 - val_loss: 0.0165 - val_mae: 0.0498 - val_accuracy: 2.4510e-04\n",
      "Epoch 95/100\n",
      "255/255 [==============================] - 1s 3ms/step - loss: 0.0202 - mae: 0.0535 - accuracy: 7.3529e-04 - val_loss: 0.0165 - val_mae: 0.0498 - val_accuracy: 2.4510e-04\n",
      "Epoch 96/100\n",
      "255/255 [==============================] - 1s 2ms/step - loss: 0.0202 - mae: 0.0535 - accuracy: 7.3529e-04 - val_loss: 0.0165 - val_mae: 0.0498 - val_accuracy: 2.4510e-04\n",
      "Epoch 97/100\n",
      "255/255 [==============================] - 1s 3ms/step - loss: 0.0202 - mae: 0.0535 - accuracy: 7.3529e-04 - val_loss: 0.0165 - val_mae: 0.0498 - val_accuracy: 2.4510e-04\n",
      "Epoch 98/100\n",
      "255/255 [==============================] - 1s 2ms/step - loss: 0.0202 - mae: 0.0535 - accuracy: 7.9657e-04 - val_loss: 0.0165 - val_mae: 0.0498 - val_accuracy: 2.4510e-04\n",
      "Epoch 99/100\n",
      "255/255 [==============================] - 1s 2ms/step - loss: 0.0202 - mae: 0.0535 - accuracy: 7.9657e-04 - val_loss: 0.0165 - val_mae: 0.0498 - val_accuracy: 2.4510e-04\n",
      "Epoch 100/100\n",
      "255/255 [==============================] - 1s 2ms/step - loss: 0.0202 - mae: 0.0535 - accuracy: 7.9657e-04 - val_loss: 0.0165 - val_mae: 0.0498 - val_accuracy: 2.4510e-04\n"
     ]
    }
   ],
   "source": [
    "batch_size = 64\n",
    "epochs = 100\n",
    "\n",
    "history = autoencoder.fit(x_train, y_train,\n",
    "                         batch_size=batch_size,\n",
    "                         epochs=epochs,\n",
    "                         verbose=1,\n",
    "                         shuffle=True,\n",
    "                         validation_data=(x_test, y_test),\n",
    "                         callbacks=callbacks\n",
    "                         )"
   ]
  },
  {
   "cell_type": "code",
   "execution_count": 25,
   "id": "c072d110",
   "metadata": {},
   "outputs": [
    {
     "data": {
      "text/plain": [
       "dict_keys(['loss', 'mae', 'accuracy', 'val_loss', 'val_mae', 'val_accuracy'])"
      ]
     },
     "execution_count": 25,
     "metadata": {},
     "output_type": "execute_result"
    }
   ],
   "source": [
    "history.history.keys()"
   ]
  },
  {
   "cell_type": "code",
   "execution_count": 26,
   "id": "2446beb1",
   "metadata": {},
   "outputs": [
    {
     "data": {
      "text/plain": [
       "[<matplotlib.lines.Line2D at 0x22a4cebf250>]"
      ]
     },
     "execution_count": 26,
     "metadata": {},
     "output_type": "execute_result"
    },
    {
     "data": {
      "image/png": "[encoded data removed]",
      "text/plain": [
       "<Figure size 640x480 with 1 Axes>"
      ]
     },
     "metadata": {},
     "output_type": "display_data"
    }
   ],
   "source": [
    "plt.plot(history.history['val_accuracy'], color='b')\n",
    "plt.plot(history.history['accuracy'], color='orange')\n"
   ]
  },
  {
   "cell_type": "code",
   "execution_count": 27,
   "id": "62d97bde",
   "metadata": {},
   "outputs": [],
   "source": [
    "# plt.plot(history.history['val_loss'], color='b')\n",
    "# plt.plot(history.history['loss'], color='orange')"
   ]
  },
  {
   "cell_type": "markdown",
   "id": "dc89baf7",
   "metadata": {},
   "source": [
    "## Evaluation"
   ]
  },
  {
   "cell_type": "code",
   "execution_count": 28,
   "id": "53c19331",
   "metadata": {},
   "outputs": [
    {
     "name": "stdout",
     "output_type": "stream",
     "text": [
      "510/510 [==============================] - 0s 749us/step - loss: 0.0202 - mae: 0.0535 - accuracy: 7.9657e-04\n",
      "Test loss: 0.020186355337500572\n",
      "Test Accuracy: 0.05348006635904312\n"
     ]
    }
   ],
   "source": [
    "score = autoencoder.evaluate(x_train, y_train, verbose=1)\n",
    "print('Test loss:', score[0])\n",
    "print('Test Accuracy:', score[1])\n"
   ]
  },
  {
   "cell_type": "code",
   "execution_count": 29,
   "id": "9e6f6131",
   "metadata": {},
   "outputs": [
    {
     "data": {
      "text/plain": [
       "[0.020186355337500572, 0.05348006635904312, 0.0007965686381794512]"
      ]
     },
     "execution_count": 29,
     "metadata": {},
     "output_type": "execute_result"
    }
   ],
   "source": [
    "score"
   ]
  },
  {
   "cell_type": "code",
   "execution_count": 30,
   "id": "e249de7c",
   "metadata": {},
   "outputs": [
    {
     "name": "stdout",
     "output_type": "stream",
     "text": [
      "128/128 [==============================] - 0s 682us/step\n"
     ]
    }
   ],
   "source": [
    "# measure anomalies based on a threshold\n",
    "threshold = 20.00\n",
    "\n",
    "y_pred = autoencoder.predict(x_test)\n",
    "y_dist = np.linalg.norm(x_test - y_pred, axis=-1)\n",
    "z = zip(y_dist >= threshold, y_dist)\n",
    "\n",
    "y_label =[]\n",
    "error = []\n",
    "\n",
    "for index, (is_anomaly, y_dist) in enumerate(z):\n",
    "    if is_anomaly:\n",
    "        y_label.append(1)\n",
    "    else:\n",
    "        y_label.append(0)\n",
    "    \n",
    "    error.append(y_dist)"
   ]
  },
  {
   "cell_type": "code",
   "execution_count": 31,
   "id": "2dc49a3f",
   "metadata": {},
   "outputs": [
    {
     "data": {
      "text/plain": [
       "4.930649607548449"
      ]
     },
     "execution_count": 31,
     "metadata": {},
     "output_type": "execute_result"
    }
   ],
   "source": [
    "y_dist"
   ]
  },
  {
   "cell_type": "code",
   "execution_count": 32,
   "id": "6937f575",
   "metadata": {},
   "outputs": [],
   "source": [
    "viz = visualization()"
   ]
  },
  {
   "cell_type": "code",
   "execution_count": 33,
   "id": "43be563f",
   "metadata": {},
   "outputs": [
    {
     "data": {
      "text/plain": [
       "0.735317308300263"
      ]
     },
     "execution_count": 33,
     "metadata": {},
     "output_type": "execute_result"
    }
   ],
   "source": [
    "roc_auc_score(y_test, y_label)"
   ]
  },
  {
   "cell_type": "code",
   "execution_count": 34,
   "id": "a8bbb480",
   "metadata": {},
   "outputs": [
    {
     "name": "stdout",
     "output_type": "stream",
     "text": [
      "              precision    recall  f1-score   support\n",
      "\n",
      "           0       0.99      0.99      0.99      4013\n",
      "           1       0.53      0.48      0.50        67\n",
      "\n",
      "    accuracy                           0.98      4080\n",
      "   macro avg       0.76      0.74      0.75      4080\n",
      "weighted avg       0.98      0.98      0.98      4080\n",
      "\n"
     ]
    }
   ],
   "source": [
    "print(classification_report(y_test, y_label))"
   ]
  },
  {
   "cell_type": "code",
   "execution_count": 35,
   "id": "64b3d813",
   "metadata": {},
   "outputs": [
    {
     "data": {
      "image/png": "[encoded data removed]",
      "text/plain": [
       "<Figure size 700x500 with 2 Axes>"
      ]
     },
     "metadata": {},
     "output_type": "display_data"
    }
   ],
   "source": [
    "viz.draw_confusion_matrix(y_test, y_label)"
   ]
  },
  {
   "cell_type": "code",
   "execution_count": 36,
   "id": "02fd44f7",
   "metadata": {
    "scrolled": false
   },
   "outputs": [
    {
     "data": {
      "image/png": "[encoded data removed]",
      "text/plain": [
       "<Figure size 1200x800 with 1 Axes>"
      ]
     },
     "metadata": {},
     "output_type": "display_data"
    }
   ],
   "source": [
    "viz.draw_anomaly(y_test, error, threshold)"
   ]
  },
  {
   "cell_type": "code",
   "execution_count": 37,
   "id": "25458941",
   "metadata": {
    "scrolled": false
   },
   "outputs": [
    {
     "data": {
      "image/png": "[encoded data removed]",
      "text/plain": [
       "<Figure size 1200x800 with 1 Axes>"
      ]
     },
     "metadata": {},
     "output_type": "display_data"
    }
   ],
   "source": [
    "viz.draw_error(error, threshold)"
   ]
  },
  {
   "cell_type": "code",
   "execution_count": null,
   "id": "4a57f38c",
   "metadata": {},
   "outputs": [],
   "source": []
  },
  {
   "cell_type": "code",
   "execution_count": null,
   "id": "80b39011",
   "metadata": {},
   "outputs": [],
   "source": []
  }
 ],
 "metadata": {
  "kernelspec": {
   "display_name": "Python 3 (ipykernel)",
   "language": "python",
   "name": "python3"
  },
  "language_info": {
   "codemirror_mode": {
    "name": "ipython",
    "version": 3
   },
   "file_extension": ".py",
   "mimetype": "text/x-python",
   "name": "python",
   "nbconvert_exporter": "python",
   "pygments_lexer": "ipython3",
   "version": "3.10.9"
  }
 },
 "nbformat": 4,
 "nbformat_minor": 5
}
