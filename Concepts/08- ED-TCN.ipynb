{
 "cells": [
  {
   "cell_type": "code",
   "execution_count": 1,
   "id": "75f43eea",
   "metadata": {},
   "outputs": [],
   "source": [
    "import numpy as np\n",
    "import pandas as pd\n",
    "\n",
    "import tensorflow\n",
    "import keras\n",
    "from keras import optimizers\n",
    "from keras import losses, regularizers\n",
    "from keras.losses import mse, binary_crossentropy\n",
    "from keras import backend as K\n",
    "from keras.models import Sequential, Model\n",
    "from keras.layers import Input, Conv1D, Dense, Flatten, Activation\n",
    "from keras.layers import UpSampling1D, MaxPooling1D, ZeroPadding1D\n",
    "\n",
    "from keras.optimizers import RMSprop, Adam, Nadam\n",
    "from keras.preprocessing import sequence\n",
    "from keras.callbacks import TensorBoard, ModelCheckpoint\n",
    "\n",
    "\n",
    "import sklearn\n",
    "from sklearn.preprocessing import StandardScaler, MinMaxScaler\n",
    "from sklearn.model_selection import train_test_split\n",
    "from sklearn.metrics import confusion_matrix, roc_auc_score, classification_report\n",
    "\n",
    "import matplotlib\n",
    "import matplotlib.pyplot as plt\n",
    "import matplotlib.gridspec as gridspec\n",
    "%matplotlib inline\n",
    "\n",
    "import seaborn as sns\n",
    "import sys\n",
    "import os\n",
    "import glob"
   ]
  },
  {
   "cell_type": "code",
   "execution_count": 41,
   "id": "85ef5910",
   "metadata": {},
   "outputs": [],
   "source": [
    "class Visualization:\n",
    "    labels = [\"Normal\", \"Anomaly\"]\n",
    "    def draw_confusion_matrix(self, y, y_pred):\n",
    "        matrix = confusion_matrix(y_true=y, y_pred=y_pred)\n",
    "        \n",
    "        plt.figure(figsize=(7,5))\n",
    "        colors =['orange', 'green']\n",
    "        sns.heatmap(matrix, xticklabels=self.labels, yticklabels=self.labels,\n",
    "                   cmap=colors, annot=True, fmt='d')\n",
    "        plt.title('Confusion Matrix')\n",
    "        plt.ylabel('Actual')\n",
    "        plt.xlabel('Predicted')\n",
    "        plt.show()\n",
    "        \n",
    "        \n",
    "    def draw_anomaly(self, y, error, threshold):\n",
    "        groupsDF = pd.DataFrame({'error':error, 'true':y}).groupby('true')\n",
    "        \n",
    "        figure, axes = plt.subplots(figsize=(12, 8))\n",
    "        \n",
    "        for name, group in groupsDF:\n",
    "            axes.plot(group.index, group.error, linestyle='',\n",
    "                      marker='x' if name == 1 else 'o',\n",
    "                      color='r' if name == 1 else 'g',\n",
    "                      label='Anomaly' if name == 1 else 'Normal'\n",
    "                      )\n",
    "        axes.hlines(threshold, xmin=axes.get_xlim()[0], xmax=axes.get_xlim()[1],\n",
    "                   colors='b', zorder=100, label='Threshold')\n",
    "        axes.legend()\n",
    "\n",
    "        plt.title(\"Anomalies\")\n",
    "        plt.xlabel(\"Data\")\n",
    "        plt.ylabel(\"Error\")\n",
    "        plt.show()\n",
    "            \n",
    "    def draw_error(self, error, threshold):\n",
    "        figure, axes = plt.subplots(figsize=(12, 8))\n",
    "        plt.plot(error, marker='o', ms=3.5, linestyle='', label='Point')\n",
    "        plt.hlines(threshold, xmin=0, xmax=len(error)-1,\n",
    "                   colors='b', zorder=100, label='Threshold')\n",
    "        plt.legend()\n",
    "        plt.title(\"Reconstruction error\")\n",
    "        plt.xlabel(\"Data\")\n",
    "        plt.ylabel(\"Error\")\n",
    "        plt.show()\n",
    "        "
   ]
  },
  {
   "cell_type": "code",
   "execution_count": 3,
   "id": "7394dacf",
   "metadata": {},
   "outputs": [
    {
     "name": "stdout",
     "output_type": "stream",
     "text": [
      "D:\\datasets\n"
     ]
    }
   ],
   "source": [
    "data_folder = os.path.join('D:', os.sep, 'datasets')\n",
    "print(data_folder)"
   ]
  },
  {
   "cell_type": "code",
   "execution_count": 4,
   "id": "9730b8af",
   "metadata": {},
   "outputs": [],
   "source": [
    "# !unzip creditcard.zip\n",
    "# print(f.filename)"
   ]
  },
  {
   "cell_type": "code",
   "execution_count": 5,
   "id": "55b30a5b",
   "metadata": {},
   "outputs": [],
   "source": [
    "df = pd.read_csv(os.path.join(data_folder, 'creditcard.csv'), index_col=None)"
   ]
  },
  {
   "cell_type": "code",
   "execution_count": 6,
   "id": "cc5feac6",
   "metadata": {},
   "outputs": [
    {
     "name": "stdout",
     "output_type": "stream",
     "text": [
      "data shape: (284807, 31)\n"
     ]
    },
    {
     "data": {
      "text/html": [
       "<div>\n",
       "<style scoped>\n",
       "    .dataframe tbody tr th:only-of-type {\n",
       "        vertical-align: middle;\n",
       "    }\n",
       "\n",
       "    .dataframe tbody tr th {\n",
       "        vertical-align: top;\n",
       "    }\n",
       "\n",
       "    .dataframe thead th {\n",
       "        text-align: right;\n",
       "    }\n",
       "</style>\n",
       "<table border=\"1\" class=\"dataframe\">\n",
       "  <thead>\n",
       "    <tr style=\"text-align: right;\">\n",
       "      <th></th>\n",
       "      <th>Time</th>\n",
       "      <th>V1</th>\n",
       "      <th>V2</th>\n",
       "      <th>V3</th>\n",
       "      <th>V4</th>\n",
       "      <th>V5</th>\n",
       "      <th>V6</th>\n",
       "      <th>V7</th>\n",
       "      <th>V8</th>\n",
       "      <th>V9</th>\n",
       "      <th>...</th>\n",
       "      <th>V21</th>\n",
       "      <th>V22</th>\n",
       "      <th>V23</th>\n",
       "      <th>V24</th>\n",
       "      <th>V25</th>\n",
       "      <th>V26</th>\n",
       "      <th>V27</th>\n",
       "      <th>V28</th>\n",
       "      <th>Amount</th>\n",
       "      <th>Class</th>\n",
       "    </tr>\n",
       "  </thead>\n",
       "  <tbody>\n",
       "    <tr>\n",
       "      <th>0</th>\n",
       "      <td>0.0</td>\n",
       "      <td>-1.359807</td>\n",
       "      <td>-0.072781</td>\n",
       "      <td>2.536347</td>\n",
       "      <td>1.378155</td>\n",
       "      <td>-0.338321</td>\n",
       "      <td>0.462388</td>\n",
       "      <td>0.239599</td>\n",
       "      <td>0.098698</td>\n",
       "      <td>0.363787</td>\n",
       "      <td>...</td>\n",
       "      <td>-0.018307</td>\n",
       "      <td>0.277838</td>\n",
       "      <td>-0.110474</td>\n",
       "      <td>0.066928</td>\n",
       "      <td>0.128539</td>\n",
       "      <td>-0.189115</td>\n",
       "      <td>0.133558</td>\n",
       "      <td>-0.021053</td>\n",
       "      <td>149.62</td>\n",
       "      <td>0</td>\n",
       "    </tr>\n",
       "    <tr>\n",
       "      <th>1</th>\n",
       "      <td>0.0</td>\n",
       "      <td>1.191857</td>\n",
       "      <td>0.266151</td>\n",
       "      <td>0.166480</td>\n",
       "      <td>0.448154</td>\n",
       "      <td>0.060018</td>\n",
       "      <td>-0.082361</td>\n",
       "      <td>-0.078803</td>\n",
       "      <td>0.085102</td>\n",
       "      <td>-0.255425</td>\n",
       "      <td>...</td>\n",
       "      <td>-0.225775</td>\n",
       "      <td>-0.638672</td>\n",
       "      <td>0.101288</td>\n",
       "      <td>-0.339846</td>\n",
       "      <td>0.167170</td>\n",
       "      <td>0.125895</td>\n",
       "      <td>-0.008983</td>\n",
       "      <td>0.014724</td>\n",
       "      <td>2.69</td>\n",
       "      <td>0</td>\n",
       "    </tr>\n",
       "    <tr>\n",
       "      <th>2</th>\n",
       "      <td>1.0</td>\n",
       "      <td>-1.358354</td>\n",
       "      <td>-1.340163</td>\n",
       "      <td>1.773209</td>\n",
       "      <td>0.379780</td>\n",
       "      <td>-0.503198</td>\n",
       "      <td>1.800499</td>\n",
       "      <td>0.791461</td>\n",
       "      <td>0.247676</td>\n",
       "      <td>-1.514654</td>\n",
       "      <td>...</td>\n",
       "      <td>0.247998</td>\n",
       "      <td>0.771679</td>\n",
       "      <td>0.909412</td>\n",
       "      <td>-0.689281</td>\n",
       "      <td>-0.327642</td>\n",
       "      <td>-0.139097</td>\n",
       "      <td>-0.055353</td>\n",
       "      <td>-0.059752</td>\n",
       "      <td>378.66</td>\n",
       "      <td>0</td>\n",
       "    </tr>\n",
       "    <tr>\n",
       "      <th>3</th>\n",
       "      <td>1.0</td>\n",
       "      <td>-0.966272</td>\n",
       "      <td>-0.185226</td>\n",
       "      <td>1.792993</td>\n",
       "      <td>-0.863291</td>\n",
       "      <td>-0.010309</td>\n",
       "      <td>1.247203</td>\n",
       "      <td>0.237609</td>\n",
       "      <td>0.377436</td>\n",
       "      <td>-1.387024</td>\n",
       "      <td>...</td>\n",
       "      <td>-0.108300</td>\n",
       "      <td>0.005274</td>\n",
       "      <td>-0.190321</td>\n",
       "      <td>-1.175575</td>\n",
       "      <td>0.647376</td>\n",
       "      <td>-0.221929</td>\n",
       "      <td>0.062723</td>\n",
       "      <td>0.061458</td>\n",
       "      <td>123.50</td>\n",
       "      <td>0</td>\n",
       "    </tr>\n",
       "    <tr>\n",
       "      <th>4</th>\n",
       "      <td>2.0</td>\n",
       "      <td>-1.158233</td>\n",
       "      <td>0.877737</td>\n",
       "      <td>1.548718</td>\n",
       "      <td>0.403034</td>\n",
       "      <td>-0.407193</td>\n",
       "      <td>0.095921</td>\n",
       "      <td>0.592941</td>\n",
       "      <td>-0.270533</td>\n",
       "      <td>0.817739</td>\n",
       "      <td>...</td>\n",
       "      <td>-0.009431</td>\n",
       "      <td>0.798278</td>\n",
       "      <td>-0.137458</td>\n",
       "      <td>0.141267</td>\n",
       "      <td>-0.206010</td>\n",
       "      <td>0.502292</td>\n",
       "      <td>0.219422</td>\n",
       "      <td>0.215153</td>\n",
       "      <td>69.99</td>\n",
       "      <td>0</td>\n",
       "    </tr>\n",
       "  </tbody>\n",
       "</table>\n",
       "<p>5 rows × 31 columns</p>\n",
       "</div>"
      ],
      "text/plain": [
       "   Time        V1        V2        V3        V4        V5        V6        V7  \\\n",
       "0   0.0 -1.359807 -0.072781  2.536347  1.378155 -0.338321  0.462388  0.239599   \n",
       "1   0.0  1.191857  0.266151  0.166480  0.448154  0.060018 -0.082361 -0.078803   \n",
       "2   1.0 -1.358354 -1.340163  1.773209  0.379780 -0.503198  1.800499  0.791461   \n",
       "3   1.0 -0.966272 -0.185226  1.792993 -0.863291 -0.010309  1.247203  0.237609   \n",
       "4   2.0 -1.158233  0.877737  1.548718  0.403034 -0.407193  0.095921  0.592941   \n",
       "\n",
       "         V8        V9  ...       V21       V22       V23       V24       V25  \\\n",
       "0  0.098698  0.363787  ... -0.018307  0.277838 -0.110474  0.066928  0.128539   \n",
       "1  0.085102 -0.255425  ... -0.225775 -0.638672  0.101288 -0.339846  0.167170   \n",
       "2  0.247676 -1.514654  ...  0.247998  0.771679  0.909412 -0.689281 -0.327642   \n",
       "3  0.377436 -1.387024  ... -0.108300  0.005274 -0.190321 -1.175575  0.647376   \n",
       "4 -0.270533  0.817739  ... -0.009431  0.798278 -0.137458  0.141267 -0.206010   \n",
       "\n",
       "        V26       V27       V28  Amount  Class  \n",
       "0 -0.189115  0.133558 -0.021053  149.62      0  \n",
       "1  0.125895 -0.008983  0.014724    2.69      0  \n",
       "2 -0.139097 -0.055353 -0.059752  378.66      0  \n",
       "3 -0.221929  0.062723  0.061458  123.50      0  \n",
       "4  0.502292  0.219422  0.215153   69.99      0  \n",
       "\n",
       "[5 rows x 31 columns]"
      ]
     },
     "execution_count": 6,
     "metadata": {},
     "output_type": "execute_result"
    }
   ],
   "source": [
    "print(f'data shape: {df.shape}')\n",
    "df.head()"
   ]
  },
  {
   "cell_type": "code",
   "execution_count": 7,
   "id": "22d16861",
   "metadata": {},
   "outputs": [],
   "source": [
    "# df.info()"
   ]
  },
  {
   "cell_type": "code",
   "execution_count": 8,
   "id": "1d0aab43",
   "metadata": {},
   "outputs": [
    {
     "data": {
      "image/png": "[encoded data removed]",
      "text/plain": [
       "<Figure size 1200x600 with 2 Axes>"
      ]
     },
     "metadata": {},
     "output_type": "display_data"
    }
   ],
   "source": [
    "# df['Time'].describe()\n",
    "# fig, ax = plt.subplots(nrows=1, ncols=2)\n",
    "\n",
    "plt.figure(figsize=(12,6))\n",
    "\n",
    "plt.subplot(1, 2, 1)\n",
    "plt.plot(df['Amount'], label='Amount')\n",
    "plt.legend()\n",
    "plt.title(\"Amount\")\n",
    "\n",
    "plt.subplot(1, 2, 2)\n",
    "plt.plot(df['Time'], c='r',label='Time')\n",
    "plt.legend()\n",
    "plt.title(\"Time\")\n",
    "\n",
    "plt.tight_layout()"
   ]
  },
  {
   "cell_type": "markdown",
   "id": "d2e22061",
   "metadata": {},
   "source": [
    "### Scale desired data"
   ]
  },
  {
   "cell_type": "code",
   "execution_count": 9,
   "id": "b807a6dc",
   "metadata": {},
   "outputs": [],
   "source": [
    "scaler = StandardScaler()\n",
    "df['Amount'] = scaler.fit_transform(df['Amount'].values.reshape(-1, 1))\n",
    "df['Time'] = scaler.fit_transform(df['Time'].values.reshape(-1, 1))"
   ]
  },
  {
   "cell_type": "code",
   "execution_count": 10,
   "id": "eb76676e",
   "metadata": {},
   "outputs": [
    {
     "data": {
      "text/html": [
       "<div>\n",
       "<style scoped>\n",
       "    .dataframe tbody tr th:only-of-type {\n",
       "        vertical-align: middle;\n",
       "    }\n",
       "\n",
       "    .dataframe tbody tr th {\n",
       "        vertical-align: top;\n",
       "    }\n",
       "\n",
       "    .dataframe thead th {\n",
       "        text-align: right;\n",
       "    }\n",
       "</style>\n",
       "<table border=\"1\" class=\"dataframe\">\n",
       "  <thead>\n",
       "    <tr style=\"text-align: right;\">\n",
       "      <th></th>\n",
       "      <th>Amount</th>\n",
       "      <th>Time</th>\n",
       "    </tr>\n",
       "  </thead>\n",
       "  <tbody>\n",
       "    <tr>\n",
       "      <th>count</th>\n",
       "      <td>2.848070e+05</td>\n",
       "      <td>2.848070e+05</td>\n",
       "    </tr>\n",
       "    <tr>\n",
       "      <th>mean</th>\n",
       "      <td>2.913952e-17</td>\n",
       "      <td>-3.065637e-16</td>\n",
       "    </tr>\n",
       "    <tr>\n",
       "      <th>std</th>\n",
       "      <td>1.000002e+00</td>\n",
       "      <td>1.000002e+00</td>\n",
       "    </tr>\n",
       "    <tr>\n",
       "      <th>min</th>\n",
       "      <td>-3.532294e-01</td>\n",
       "      <td>-1.996583e+00</td>\n",
       "    </tr>\n",
       "    <tr>\n",
       "      <th>25%</th>\n",
       "      <td>-3.308401e-01</td>\n",
       "      <td>-8.552120e-01</td>\n",
       "    </tr>\n",
       "    <tr>\n",
       "      <th>50%</th>\n",
       "      <td>-2.652715e-01</td>\n",
       "      <td>-2.131453e-01</td>\n",
       "    </tr>\n",
       "    <tr>\n",
       "      <th>75%</th>\n",
       "      <td>-4.471707e-02</td>\n",
       "      <td>9.372174e-01</td>\n",
       "    </tr>\n",
       "    <tr>\n",
       "      <th>max</th>\n",
       "      <td>1.023622e+02</td>\n",
       "      <td>1.642058e+00</td>\n",
       "    </tr>\n",
       "  </tbody>\n",
       "</table>\n",
       "</div>"
      ],
      "text/plain": [
       "             Amount          Time\n",
       "count  2.848070e+05  2.848070e+05\n",
       "mean   2.913952e-17 -3.065637e-16\n",
       "std    1.000002e+00  1.000002e+00\n",
       "min   -3.532294e-01 -1.996583e+00\n",
       "25%   -3.308401e-01 -8.552120e-01\n",
       "50%   -2.652715e-01 -2.131453e-01\n",
       "75%   -4.471707e-02  9.372174e-01\n",
       "max    1.023622e+02  1.642058e+00"
      ]
     },
     "execution_count": 10,
     "metadata": {},
     "output_type": "execute_result"
    }
   ],
   "source": [
    "df[['Amount', 'Time']].describe()"
   ]
  },
  {
   "cell_type": "markdown",
   "id": "4570c898",
   "metadata": {},
   "source": [
    "### Shuffle and split data"
   ]
  },
  {
   "cell_type": "code",
   "execution_count": 11,
   "id": "b07af3ba",
   "metadata": {},
   "outputs": [
    {
     "data": {
      "text/plain": [
       "((492, 31), (284315, 31))"
      ]
     },
     "execution_count": 11,
     "metadata": {},
     "output_type": "execute_result"
    }
   ],
   "source": [
    "anomalies = df[df[\"Class\"] == 1]\n",
    "normal = df[df[\"Class\"] == 0]\n",
    "\n",
    "anomalies.shape, normal.shape"
   ]
  },
  {
   "cell_type": "code",
   "execution_count": 12,
   "id": "ed05bc80",
   "metadata": {},
   "outputs": [],
   "source": [
    "for i in range(0, 20):\n",
    "    # np.random.permutation: Randomly permute a sequence\n",
    "    normal = normal.iloc[np.random.permutation(len(normal))]"
   ]
  },
  {
   "cell_type": "code",
   "execution_count": 13,
   "id": "fc9b7faf",
   "metadata": {},
   "outputs": [],
   "source": [
    "dataset = pd.concat([normal[:10000], anomalies])\n",
    "\n",
    "x_train, x_test = train_test_split(dataset, test_size=0.4, random_state=101)\n",
    "\n",
    "x_train = x_train.sort_values(by=['Time'])\n",
    "x_test = x_test.sort_values(by=['Time'])\n",
    "\n",
    "y_train = x_train['Class'].copy()\n",
    "y_test = x_test['Class'].copy()\n",
    "\n",
    "\n",
    "# x_train.drop('Class', axis=1, inplace=True)\n",
    "# x_test.drop('Class', axis=1, inplace=True)\n",
    "\n"
   ]
  },
  {
   "cell_type": "code",
   "execution_count": 14,
   "id": "ba053bd5",
   "metadata": {},
   "outputs": [
    {
     "data": {
      "text/html": [
       "<div>\n",
       "<style scoped>\n",
       "    .dataframe tbody tr th:only-of-type {\n",
       "        vertical-align: middle;\n",
       "    }\n",
       "\n",
       "    .dataframe tbody tr th {\n",
       "        vertical-align: top;\n",
       "    }\n",
       "\n",
       "    .dataframe thead th {\n",
       "        text-align: right;\n",
       "    }\n",
       "</style>\n",
       "<table border=\"1\" class=\"dataframe\">\n",
       "  <thead>\n",
       "    <tr style=\"text-align: right;\">\n",
       "      <th></th>\n",
       "      <th>Time</th>\n",
       "      <th>V1</th>\n",
       "      <th>V2</th>\n",
       "      <th>V3</th>\n",
       "      <th>V4</th>\n",
       "      <th>V5</th>\n",
       "      <th>V6</th>\n",
       "      <th>V7</th>\n",
       "      <th>V8</th>\n",
       "      <th>V9</th>\n",
       "      <th>...</th>\n",
       "      <th>V21</th>\n",
       "      <th>V22</th>\n",
       "      <th>V23</th>\n",
       "      <th>V24</th>\n",
       "      <th>V25</th>\n",
       "      <th>V26</th>\n",
       "      <th>V27</th>\n",
       "      <th>V28</th>\n",
       "      <th>Amount</th>\n",
       "      <th>Class</th>\n",
       "    </tr>\n",
       "  </thead>\n",
       "  <tbody>\n",
       "    <tr>\n",
       "      <th>36</th>\n",
       "      <td>-1.996014</td>\n",
       "      <td>-0.246046</td>\n",
       "      <td>0.473267</td>\n",
       "      <td>1.695738</td>\n",
       "      <td>0.262411</td>\n",
       "      <td>-0.010866</td>\n",
       "      <td>-0.610836</td>\n",
       "      <td>0.793937</td>\n",
       "      <td>-0.247253</td>\n",
       "      <td>0.138879</td>\n",
       "      <td>...</td>\n",
       "      <td>-0.194600</td>\n",
       "      <td>-0.335133</td>\n",
       "      <td>-0.078180</td>\n",
       "      <td>0.392784</td>\n",
       "      <td>-0.031157</td>\n",
       "      <td>0.198037</td>\n",
       "      <td>-0.175347</td>\n",
       "      <td>-0.203616</td>\n",
       "      <td>-0.231328</td>\n",
       "      <td>0</td>\n",
       "    </tr>\n",
       "    <tr>\n",
       "      <th>73</th>\n",
       "      <td>-1.995572</td>\n",
       "      <td>-0.580629</td>\n",
       "      <td>0.482684</td>\n",
       "      <td>1.333123</td>\n",
       "      <td>-0.253080</td>\n",
       "      <td>-0.028469</td>\n",
       "      <td>-0.519166</td>\n",
       "      <td>0.503249</td>\n",
       "      <td>0.117773</td>\n",
       "      <td>0.117112</td>\n",
       "      <td>...</td>\n",
       "      <td>-0.042142</td>\n",
       "      <td>-0.148707</td>\n",
       "      <td>0.001451</td>\n",
       "      <td>0.302764</td>\n",
       "      <td>-0.680714</td>\n",
       "      <td>-0.015554</td>\n",
       "      <td>-0.006307</td>\n",
       "      <td>0.164222</td>\n",
       "      <td>-0.266631</td>\n",
       "      <td>0</td>\n",
       "    </tr>\n",
       "    <tr>\n",
       "      <th>111</th>\n",
       "      <td>-1.995046</td>\n",
       "      <td>1.148187</td>\n",
       "      <td>0.085837</td>\n",
       "      <td>0.120702</td>\n",
       "      <td>1.126665</td>\n",
       "      <td>0.214711</td>\n",
       "      <td>0.537381</td>\n",
       "      <td>-0.049989</td>\n",
       "      <td>0.186175</td>\n",
       "      <td>0.111781</td>\n",
       "      <td>...</td>\n",
       "      <td>-0.091112</td>\n",
       "      <td>-0.095475</td>\n",
       "      <td>-0.166750</td>\n",
       "      <td>-0.653433</td>\n",
       "      <td>0.713020</td>\n",
       "      <td>-0.288035</td>\n",
       "      <td>0.031507</td>\n",
       "      <td>0.000372</td>\n",
       "      <td>-0.274187</td>\n",
       "      <td>0</td>\n",
       "    </tr>\n",
       "    <tr>\n",
       "      <th>127</th>\n",
       "      <td>-1.994898</td>\n",
       "      <td>-0.655264</td>\n",
       "      <td>0.409899</td>\n",
       "      <td>1.289156</td>\n",
       "      <td>-0.325043</td>\n",
       "      <td>0.545669</td>\n",
       "      <td>-0.349811</td>\n",
       "      <td>0.648240</td>\n",
       "      <td>0.036063</td>\n",
       "      <td>0.078701</td>\n",
       "      <td>...</td>\n",
       "      <td>-0.155727</td>\n",
       "      <td>-0.477390</td>\n",
       "      <td>-0.126525</td>\n",
       "      <td>-0.443628</td>\n",
       "      <td>-0.012118</td>\n",
       "      <td>0.143173</td>\n",
       "      <td>0.049783</td>\n",
       "      <td>0.118280</td>\n",
       "      <td>-0.223252</td>\n",
       "      <td>0</td>\n",
       "    </tr>\n",
       "    <tr>\n",
       "      <th>128</th>\n",
       "      <td>-1.994898</td>\n",
       "      <td>-3.007739</td>\n",
       "      <td>0.929514</td>\n",
       "      <td>-0.423721</td>\n",
       "      <td>-1.392952</td>\n",
       "      <td>0.082247</td>\n",
       "      <td>-0.515782</td>\n",
       "      <td>0.104714</td>\n",
       "      <td>0.825311</td>\n",
       "      <td>0.385453</td>\n",
       "      <td>...</td>\n",
       "      <td>-0.409246</td>\n",
       "      <td>-0.588832</td>\n",
       "      <td>0.068045</td>\n",
       "      <td>-0.890870</td>\n",
       "      <td>-0.047641</td>\n",
       "      <td>0.717617</td>\n",
       "      <td>-0.054094</td>\n",
       "      <td>-0.424260</td>\n",
       "      <td>-0.193506</td>\n",
       "      <td>0</td>\n",
       "    </tr>\n",
       "  </tbody>\n",
       "</table>\n",
       "<p>5 rows × 31 columns</p>\n",
       "</div>"
      ],
      "text/plain": [
       "         Time        V1        V2        V3        V4        V5        V6  \\\n",
       "36  -1.996014 -0.246046  0.473267  1.695738  0.262411 -0.010866 -0.610836   \n",
       "73  -1.995572 -0.580629  0.482684  1.333123 -0.253080 -0.028469 -0.519166   \n",
       "111 -1.995046  1.148187  0.085837  0.120702  1.126665  0.214711  0.537381   \n",
       "127 -1.994898 -0.655264  0.409899  1.289156 -0.325043  0.545669 -0.349811   \n",
       "128 -1.994898 -3.007739  0.929514 -0.423721 -1.392952  0.082247 -0.515782   \n",
       "\n",
       "           V7        V8        V9  ...       V21       V22       V23  \\\n",
       "36   0.793937 -0.247253  0.138879  ... -0.194600 -0.335133 -0.078180   \n",
       "73   0.503249  0.117773  0.117112  ... -0.042142 -0.148707  0.001451   \n",
       "111 -0.049989  0.186175  0.111781  ... -0.091112 -0.095475 -0.166750   \n",
       "127  0.648240  0.036063  0.078701  ... -0.155727 -0.477390 -0.126525   \n",
       "128  0.104714  0.825311  0.385453  ... -0.409246 -0.588832  0.068045   \n",
       "\n",
       "          V24       V25       V26       V27       V28    Amount  Class  \n",
       "36   0.392784 -0.031157  0.198037 -0.175347 -0.203616 -0.231328      0  \n",
       "73   0.302764 -0.680714 -0.015554 -0.006307  0.164222 -0.266631      0  \n",
       "111 -0.653433  0.713020 -0.288035  0.031507  0.000372 -0.274187      0  \n",
       "127 -0.443628 -0.012118  0.143173  0.049783  0.118280 -0.223252      0  \n",
       "128 -0.890870 -0.047641  0.717617 -0.054094 -0.424260 -0.193506      0  \n",
       "\n",
       "[5 rows x 31 columns]"
      ]
     },
     "execution_count": 14,
     "metadata": {},
     "output_type": "execute_result"
    }
   ],
   "source": [
    "x_train.head()"
   ]
  },
  {
   "cell_type": "code",
   "execution_count": 15,
   "id": "dc86492b",
   "metadata": {},
   "outputs": [
    {
     "data": {
      "text/plain": [
       "0    5996\n",
       "1     299\n",
       "Name: Class, dtype: int64"
      ]
     },
     "execution_count": 15,
     "metadata": {},
     "output_type": "execute_result"
    }
   ],
   "source": [
    "# Normal and anomalouse Classes comparison\n",
    "x_train['Class'].value_counts()"
   ]
  },
  {
   "cell_type": "code",
   "execution_count": 16,
   "id": "4995921f",
   "metadata": {},
   "outputs": [
    {
     "name": "stdout",
     "output_type": "stream",
     "text": [
      "Shapes:\n",
      "x_train:(6295, 31) \n",
      "y_train :(6295,) \n",
      "\n",
      "x_test:(4197, 31) \n",
      "y_test: (4197,) \n",
      "\n"
     ]
    }
   ],
   "source": [
    "print(\"Shapes:\")\n",
    "print(\"x_train:%s \\ny_train :%s \\n\" % (x_train.shape, y_train.shape))\n",
    "print(\"x_test:%s \\ny_test: %s \\n\" % (x_test.shape, y_test.shape))"
   ]
  },
  {
   "cell_type": "markdown",
   "id": "716ab422",
   "metadata": {},
   "source": [
    "**To pass the data sets into the CONVOLUTIONAL model:</BR></BR>\n",
    "1- the x sets must be 3-d, (num of samples, data rows, data cols)</BR></BR>\n",
    "2- the y sets must be 2-d (OneHot Matrix for output)**"
   ]
  },
  {
   "cell_type": "code",
   "execution_count": 17,
   "id": "1042363c",
   "metadata": {},
   "outputs": [
    {
     "name": "stdout",
     "output_type": "stream",
     "text": [
      "x_train shape: (6295, 31, 1)\n",
      "x_test shape: (4197, 31, 1)\n",
      "\n",
      "input shape: (31, 1)\n"
     ]
    }
   ],
   "source": [
    "x_train = np.array(x_train).reshape(x_train.shape[0], x_train.shape[1], 1)\n",
    "x_test = np.array(x_test).reshape(x_test.shape[0], x_test.shape[1], 1)\n",
    "input_shape = (x_train.shape[1], 1)\n",
    "\n",
    "print(f'x_train shape: {x_train.shape}')\n",
    "print(f'x_test shape: {x_test.shape}\\n')\n",
    "print(f'input shape: {input_shape}')"
   ]
  },
  {
   "cell_type": "code",
   "execution_count": 18,
   "id": "6e5cae74",
   "metadata": {},
   "outputs": [
    {
     "data": {
      "text/plain": [
       "(31, 1)"
      ]
     },
     "execution_count": 18,
     "metadata": {},
     "output_type": "execute_result"
    }
   ],
   "source": [
    "x_train[0].shape"
   ]
  },
  {
   "cell_type": "code",
   "execution_count": 19,
   "id": "689d4f2e",
   "metadata": {},
   "outputs": [
    {
     "name": "stdout",
     "output_type": "stream",
     "text": [
      "y_train shape: (6295, 2)\n",
      "y_test shape: (4197, 2)\n"
     ]
    }
   ],
   "source": [
    "y_train = keras.utils.to_categorical(y_train, 2)\n",
    "y_test = keras.utils.to_categorical(y_test, 2)\n",
    "\n",
    "print(f'y_train shape: {y_train.shape}')\n",
    "print(f'y_test shape: {y_test.shape}')"
   ]
  },
  {
   "cell_type": "code",
   "execution_count": 20,
   "id": "355df505",
   "metadata": {},
   "outputs": [
    {
     "data": {
      "text/plain": [
       "array([[1., 0.],\n",
       "       [1., 0.],\n",
       "       [1., 0.],\n",
       "       [1., 0.],\n",
       "       [1., 0.],\n",
       "       [1., 0.],\n",
       "       [1., 0.],\n",
       "       [1., 0.],\n",
       "       [1., 0.],\n",
       "       [1., 0.],\n",
       "       [1., 0.],\n",
       "       [1., 0.],\n",
       "       [1., 0.],\n",
       "       [0., 1.],\n",
       "       [1., 0.],\n",
       "       [1., 0.],\n",
       "       [1., 0.]], dtype=float32)"
      ]
     },
     "execution_count": 20,
     "metadata": {},
     "output_type": "execute_result"
    }
   ],
   "source": [
    "# as you see below the y is a one hot matrix for label.\n",
    "y_train[1:18]"
   ]
  },
  {
   "cell_type": "code",
   "execution_count": 21,
   "id": "0d11a07d",
   "metadata": {},
   "outputs": [],
   "source": [
    "input_layer = Input(shape=(input_shape ))\n",
    "\n",
    "### ENCODING STAGE\n",
    "# Pairs of causal 1D convolutional layers and pooling layers comprising the encoding stage\n",
    "conv_1 = Conv1D(filters=int(input_shape[0]), kernel_size=2, dilation_rate=1,\n",
    "                padding='causal', strides=1,input_shape=input_shape,\n",
    "                kernel_regularizer=regularizers.l2(0.01),\n",
    "                activation='relu')(input_layer)\n",
    "\n",
    "pool_1 = MaxPooling1D(pool_size=2, strides=2)(conv_1)\n",
    "\n",
    "conv_2 = Conv1D(filters=int(input_shape[0] / 2), kernel_size=2, dilation_rate=1,\n",
    "                padding='causal',strides=1, kernel_regularizer=regularizers.l2(0.01),\n",
    "                activation='relu')(pool_1)\n",
    "\n",
    "pool_2 = MaxPooling1D(pool_size=2, strides=3)(conv_2)\n",
    "\n",
    "conv_3 = Conv1D(filters=int(input_shape[0] / 3), kernel_size=2, dilation_rate=1,\n",
    "                padding='causal', strides=1,kernel_regularizer=regularizers.l2(0.01),\n",
    "                activation='relu')(pool_2)\n",
    "\n",
    "\n",
    "### OUTPUT OF ENCODING STAGE\n",
    "encoder = Dense(int(input_shape[0] / 6), activation='relu')(conv_3)"
   ]
  },
  {
   "cell_type": "code",
   "execution_count": 22,
   "id": "b5191ca3",
   "metadata": {},
   "outputs": [],
   "source": [
    "### DECODING STAGE\n",
    "# Pairs of upsampling and causal 1D convolutional layers comprising the decoding stage\n",
    "upsample_1 = UpSampling1D(size=3)(encoder)\n",
    "\n",
    "conv_4 = Conv1D(filters=int(input_shape[0]/3), kernel_size=2, dilation_rate=1,\n",
    "                padding='causal',strides=1, kernel_regularizer=regularizers.l2(0.01),\n",
    "                activation='relu')(upsample_1)\n",
    "\n",
    "upsample_2 = UpSampling1D(size=2)(conv_4)\n",
    "\n",
    "conv_5 = Conv1D(filters=int(input_shape[0]/2), kernel_size=2, dilation_rate=1,\n",
    "                padding='causal', strides=1,kernel_regularizer=regularizers.l2(0.05),\n",
    "                activation='relu')(upsample_2)\n",
    "\n",
    "zero_pad_1 = ZeroPadding1D(padding=(0,1))(conv_5)\n",
    "\n",
    "conv_6 = Conv1D(filters=int(input_shape[0]), kernel_size=2, dilation_rate=1,\n",
    "                padding='causal', strides=1,kernel_regularizer=regularizers.l2(0.05),\n",
    "                activation='relu')(zero_pad_1)\n",
    "\n",
    "\n",
    "### Output of decoding stage flattened and passed through softmax to make predictions\n",
    "flat = Flatten()(conv_6)\n",
    "\n",
    "output_layer = Dense(2, activation='softmax')(flat)\n",
    "\n",
    "TCN = Model(inputs=input_layer, outputs=output_layer)"
   ]
  },
  {
   "cell_type": "code",
   "execution_count": 23,
   "id": "1ed62a11",
   "metadata": {},
   "outputs": [
    {
     "name": "stdout",
     "output_type": "stream",
     "text": [
      "Model: \"model\"\n",
      "_________________________________________________________________\n",
      " Layer (type)                Output Shape              Param #   \n",
      "=================================================================\n",
      " input_1 (InputLayer)        [(None, 31, 1)]           0         \n",
      "                                                                 \n",
      " conv1d (Conv1D)             (None, 31, 31)            93        \n",
      "                                                                 \n",
      " max_pooling1d (MaxPooling1  (None, 15, 31)            0         \n",
      " D)                                                              \n",
      "                                                                 \n",
      " conv1d_1 (Conv1D)           (None, 15, 15)            945       \n",
      "                                                                 \n",
      " max_pooling1d_1 (MaxPoolin  (None, 5, 15)             0         \n",
      " g1D)                                                            \n",
      "                                                                 \n",
      " conv1d_2 (Conv1D)           (None, 5, 10)             310       \n",
      "                                                                 \n",
      " dense (Dense)               (None, 5, 5)              55        \n",
      "                                                                 \n",
      " up_sampling1d (UpSampling1  (None, 15, 5)             0         \n",
      " D)                                                              \n",
      "                                                                 \n",
      " conv1d_3 (Conv1D)           (None, 15, 10)            110       \n",
      "                                                                 \n",
      " up_sampling1d_1 (UpSamplin  (None, 30, 10)            0         \n",
      " g1D)                                                            \n",
      "                                                                 \n",
      " conv1d_4 (Conv1D)           (None, 30, 15)            315       \n",
      "                                                                 \n",
      " zero_padding1d (ZeroPaddin  (None, 31, 15)            0         \n",
      " g1D)                                                            \n",
      "                                                                 \n",
      " conv1d_5 (Conv1D)           (None, 31, 31)            961       \n",
      "                                                                 \n",
      " flatten (Flatten)           (None, 961)               0         \n",
      "                                                                 \n",
      " dense_1 (Dense)             (None, 2)                 1924      \n",
      "                                                                 \n",
      "=================================================================\n",
      "Total params: 4713 (18.41 KB)\n",
      "Trainable params: 4713 (18.41 KB)\n",
      "Non-trainable params: 0 (0.00 Byte)\n",
      "_________________________________________________________________\n"
     ]
    }
   ],
   "source": [
    "TCN.compile(loss=keras.losses.categorical_crossentropy,\n",
    "              optimizer=optimizers.Adam(learning_rate=0.002),\n",
    "              metrics=['mae', 'accuracy'])\n",
    "\n",
    "checkpointer = ModelCheckpoint(filepath=\"model_ED_TCN_creditcard.h5\",\n",
    "                               verbose=0,\n",
    "                               save_best_only=True)\n",
    "\n",
    "TCN.summary()"
   ]
  },
  {
   "cell_type": "code",
   "execution_count": 24,
   "id": "b2a227d0",
   "metadata": {},
   "outputs": [
    {
     "name": "stdout",
     "output_type": "stream",
     "text": [
      "Epoch 1/10\n",
      "50/50 [==============================] - 2s 24ms/step - loss: 1.5804 - mae: 0.1611 - accuracy: 0.9344 - val_loss: 0.8716 - val_mae: 0.0678 - val_accuracy: 0.9540\n",
      "Epoch 2/10\n",
      "50/50 [==============================] - 1s 15ms/step - loss: 0.5772 - mae: 0.0422 - accuracy: 0.9768 - val_loss: 0.3476 - val_mae: 0.0243 - val_accuracy: 0.9874\n",
      "Epoch 3/10\n",
      "50/50 [==============================] - 1s 18ms/step - loss: 0.2638 - mae: 0.0287 - accuracy: 0.9882 - val_loss: 0.1848 - val_mae: 0.0189 - val_accuracy: 0.9902\n",
      "Epoch 4/10\n",
      "50/50 [==============================] - 1s 27ms/step - loss: 0.1638 - mae: 0.0247 - accuracy: 0.9884 - val_loss: 0.1389 - val_mae: 0.0366 - val_accuracy: 0.9914\n",
      "Epoch 5/10\n",
      "50/50 [==============================] - 1s 27ms/step - loss: 0.1279 - mae: 0.0256 - accuracy: 0.9886 - val_loss: 0.1089 - val_mae: 0.0249 - val_accuracy: 0.9909\n",
      "Epoch 6/10\n",
      "50/50 [==============================] - 1s 24ms/step - loss: 0.1126 - mae: 0.0240 - accuracy: 0.9884 - val_loss: 0.1331 - val_mae: 0.0631 - val_accuracy: 0.9862\n",
      "Epoch 7/10\n",
      "50/50 [==============================] - 1s 12ms/step - loss: 0.1157 - mae: 0.0316 - accuracy: 0.9870 - val_loss: 0.0922 - val_mae: 0.0221 - val_accuracy: 0.9914\n",
      "Epoch 8/10\n",
      "50/50 [==============================] - 1s 12ms/step - loss: 0.0981 - mae: 0.0239 - accuracy: 0.9895 - val_loss: 0.0860 - val_mae: 0.0180 - val_accuracy: 0.9912\n",
      "Epoch 9/10\n",
      "50/50 [==============================] - 0s 9ms/step - loss: 0.0924 - mae: 0.0229 - accuracy: 0.9897 - val_loss: 0.0827 - val_mae: 0.0173 - val_accuracy: 0.9912\n",
      "Epoch 10/10\n",
      "50/50 [==============================] - 1s 24ms/step - loss: 0.0903 - mae: 0.0231 - accuracy: 0.9894 - val_loss: 0.0799 - val_mae: 0.0170 - val_accuracy: 0.9914\n"
     ]
    }
   ],
   "source": [
    "history = TCN.fit(x_train, y_train,\n",
    "                  batch_size=128,\n",
    "                  epochs=10,\n",
    "                  verbose=1,\n",
    "                  validation_data=(x_test, y_test),\n",
    "                  callbacks = [TensorBoard(log_dir='../logs/TCN1')])"
   ]
  },
  {
   "cell_type": "code",
   "execution_count": 25,
   "id": "e18cfa56",
   "metadata": {},
   "outputs": [
    {
     "data": {
      "text/plain": [
       "dict_keys(['loss', 'mae', 'accuracy', 'val_loss', 'val_mae', 'val_accuracy'])"
      ]
     },
     "execution_count": 25,
     "metadata": {},
     "output_type": "execute_result"
    }
   ],
   "source": [
    "history.history.keys()"
   ]
  },
  {
   "cell_type": "code",
   "execution_count": 26,
   "id": "ff793e72",
   "metadata": {},
   "outputs": [
    {
     "data": {
      "image/png": "[encoded data removed]",
      "text/plain": [
       "<Figure size 1200x600 with 2 Axes>"
      ]
     },
     "metadata": {},
     "output_type": "display_data"
    }
   ],
   "source": [
    "plt.figure(figsize=(12,6))\n",
    "\n",
    "plt.subplot(1, 2, 1)\n",
    "plt.plot(history.history['accuracy'], color='b', label='accuracy')\n",
    "plt.plot(history.history['val_accuracy'], color='orange', label='val_accuracy')\n",
    "plt.legend()\n",
    "plt.title(\"accuracy\")\n",
    "\n",
    "plt.subplot(1, 2, 2)\n",
    "plt.plot(history.history['loss'], color='b', label='loss')\n",
    "plt.plot(history.history['val_loss'], color='orange', label='val_loss')\n",
    "plt.legend()\n",
    "plt.title(\"loss\")\n",
    "\n",
    "plt.tight_layout()"
   ]
  },
  {
   "cell_type": "code",
   "execution_count": 27,
   "id": "c12c6bee",
   "metadata": {},
   "outputs": [
    {
     "name": "stdout",
     "output_type": "stream",
     "text": [
      "Test loss: 0.07986754924058914\n",
      "Test accuracy: 0.017048519104719162\n"
     ]
    }
   ],
   "source": [
    "score = TCN.evaluate(x_test, y_test, verbose=0)\n",
    "print('Test loss:', score[0])\n",
    "print('Test accuracy:', score[1])"
   ]
  },
  {
   "cell_type": "code",
   "execution_count": 28,
   "id": "93e56f14",
   "metadata": {},
   "outputs": [
    {
     "name": "stdout",
     "output_type": "stream",
     "text": [
      "132/132 [==============================] - 0s 975us/step\n",
      "[[1. 0.]\n",
      " [1. 0.]\n",
      " [1. 0.]\n",
      " ...\n",
      " [1. 0.]\n",
      " [1. 0.]\n",
      " [1. 0.]]\n",
      "AUC: 98.39%\n"
     ]
    }
   ],
   "source": [
    "from sklearn.metrics import roc_auc_score\n",
    "\n",
    "preds = TCN.predict(x_test)\n",
    "y_pred = np.round(preds)\n",
    "print(y_pred)\n",
    "auc = roc_auc_score( y_pred, y_test)\n",
    "print(\"AUC: {:.2%}\".format (auc))"
   ]
  },
  {
   "cell_type": "code",
   "execution_count": 29,
   "id": "90d43643",
   "metadata": {},
   "outputs": [
    {
     "name": "stdout",
     "output_type": "stream",
     "text": [
      "              precision    recall  f1-score   support\n",
      "\n",
      "           0       0.99      1.00      1.00      4004\n",
      "           1       0.98      0.83      0.90       193\n",
      "\n",
      "   micro avg       0.99      0.99      0.99      4197\n",
      "   macro avg       0.98      0.92      0.95      4197\n",
      "weighted avg       0.99      0.99      0.99      4197\n",
      " samples avg       0.99      0.99      0.99      4197\n",
      "\n"
     ]
    }
   ],
   "source": [
    "print(classification_report(y_test, y_pred))"
   ]
  },
  {
   "cell_type": "code",
   "execution_count": 42,
   "id": "ebee73ec",
   "metadata": {},
   "outputs": [
    {
     "data": {
      "image/png": "[encoded data removed]",
      "text/plain": [
       "<Figure size 700x500 with 2 Axes>"
      ]
     },
     "metadata": {},
     "output_type": "display_data"
    }
   ],
   "source": [
    "viz = Visualization()\n",
    "y_pred2 = np.argmax(y_pred, axis=1)\n",
    "y_test2 = np.argmax(y_test, axis=1)\n",
    "viz.draw_confusion_matrix(y_test2, y_pred2)"
   ]
  },
  {
   "cell_type": "code",
   "execution_count": null,
   "id": "893c87fd",
   "metadata": {},
   "outputs": [],
   "source": []
  }
 ],
 "metadata": {
  "kernelspec": {
   "display_name": "Python 3 (ipykernel)",
   "language": "python",
   "name": "python3"
  },
  "language_info": {
   "codemirror_mode": {
    "name": "ipython",
    "version": 3
   },
   "file_extension": ".py",
   "mimetype": "text/x-python",
   "name": "python",
   "nbconvert_exporter": "python",
   "pygments_lexer": "ipython3",
   "version": "3.10.9"
  }
 },
 "nbformat": 4,
 "nbformat_minor": 5
}
